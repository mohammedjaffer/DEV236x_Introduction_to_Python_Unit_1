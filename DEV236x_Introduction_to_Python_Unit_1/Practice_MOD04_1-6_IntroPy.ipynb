{
  "cells": [
    {
      "metadata": {},
      "cell_type": "markdown",
      "source": "# 1-6.2 Intro Python Practice\n## Nested Conditionals\n<font size=\"5\" color=\"#00A0B2\"  face=\"verdana\"> <B>Student will be able to</B></font>\n- create nested conditional logic in code  \n- print format print using escape sequence (**\\**)"
    },
    {
      "metadata": {},
      "cell_type": "markdown",
      "source": "# &nbsp;\n<font size=\"6\" color=\"#B24C00\"  face=\"verdana\"> <B>Tasks</B></font>  "
    },
    {
      "metadata": {
        "trusted": true
      },
      "cell_type": "code",
      "source": "# [ ] print a string that outputs the following exactly: The new line character is \"\\n\"\nprint(\"The new line character is \\\"\\\\n\\\"\")\n",
      "execution_count": 6,
      "outputs": [
        {
          "output_type": "stream",
          "text": "The new line character is \"\\n\"\n",
          "name": "stdout"
        }
      ]
    },
    {
      "metadata": {
        "trusted": true
      },
      "cell_type": "code",
      "source": "# [ ] print output that is exactly (with quotes): \"That's how we escape!\"\nprint(\"That\\'s how we escape!\")\n",
      "execution_count": 7,
      "outputs": [
        {
          "output_type": "stream",
          "text": "That's how we escape!\n",
          "name": "stdout"
        }
      ]
    },
    {
      "metadata": {
        "trusted": true
      },
      "cell_type": "code",
      "source": "# [ ] with only 1 print statement and using No Space Characters, output the text commented below  \n\n# 1       one\n# 22      two\n# 333     three\nprint(\"1\\tone\\n22\\ttwo\\n333\\tthree\")\n",
      "execution_count": 8,
      "outputs": [
        {
          "output_type": "stream",
          "text": "1\tone\n22\ttwo\n333\tthree\n",
          "name": "stdout"
        }
      ]
    },
    {
      "metadata": {},
      "cell_type": "markdown",
      "source": "# &nbsp;\n## Program: quote_me() Function\nquote_me takes a string argument and returns a string that will display surrounded with **added double quotes** if printed  \n- check if passed string starts with a double quote (`\"\\\"\"`), then surround string with single quotations \n- if the passed string starts with single quote, or if doesn't start with a quotation mark, then surround with double quotations  \n\nTest the function code passing string input as the argument to quote_me() "
    },
    {
      "metadata": {
        "trusted": true
      },
      "cell_type": "code",
      "source": "# [ ] create and test quote_me()\ndef quote_me(s):\n    if s.startswith('\\\"'):\n        print(\"\\\"\"+s+\"\\\"\")\n    elif s.startswith(\"\\'\"):\n        print(\"\\'\"+s+\"\\'\")\nquote = input(\"enter any quote: \")\nquote_me(quote)\n",
      "execution_count": 4,
      "outputs": [
        {
          "output_type": "stream",
          "name": "stdout",
          "text": "enter any quote: \"No pain, no gain\"\n\"\"No pain, no gain\"\"\n"
        }
      ]
    },
    {
      "metadata": {},
      "cell_type": "markdown",
      "source": "# &nbsp;\n### Program: shirt order \nFirst get input for color and size  \n- White has sizes L, M \n- Blue has sizes M, S  \n\nprint available or unavailable, then  \nprint the order confirmation of color and size  \n\n*\n**hint**: set a variable \"available = False\" before nested if statements and  \nchange to True if color and size are avaliable*"
    },
    {
      "metadata": {
        "trusted": true
      },
      "cell_type": "code",
      "source": "# [ ] create shirt order using nested if \ncolor = input(\"enter the color of shirt you want(white or blue): \")\nsize = input(\"enter the size your shirt(S,M,L): \")\navailable = False\nwhile not available:\n    if size.upper() == 'L':\n        if color.lower() == 'blue':\n            available = True\n            print(\"available\")\n            print(\"order confirmation of\",color,\"and size\",size)\n            break\n        else:\n            print(\"unavailable\")\n            break\n    \n    elif size.upper() == 'M':\n        if color.lower() == 'blue':\n            available = True\n            print(\"available\")\n            print(\"order confirmation of\",color,\"and size\",size)\n            break\n        else:\n            print(\"unavailable\")\n            break\n    else:\n        if color.lower() == 'white':\n            available = True\n            print(\"available\")\n            print(\"order confirmation of\",color,\"and size\",size)\n            break\n        elif color.lower() == 'blue':\n            available = True\n            print(\"available\")\n            print(\"order confirmation of\",color,\"and size\",size)\n            break\n        else:\n            print(\"unavailable\")\n            break",
      "execution_count": 2,
      "outputs": [
        {
          "output_type": "stream",
          "name": "stdout",
          "text": "enter the color of shirt you want(white or blue): white\nenter the size your shirt(S,M,L): s\navailable\norder confirmation of white and size s\n"
        }
      ]
    },
    {
      "metadata": {},
      "cell_type": "markdown",
      "source": "# &nbsp;\n## Program: str_analysis() Function\nCreate the str_analysis() function that takes a string argument.  In the body of the function:\n- Check `if` string is digits  \n  - if digits: convert to `int` and check `if` greater than 99  \n    - if greater than 99, print a message about a \"big number\"  \n    - if not greater than 99, print message about \"small number\"    \n  - if not digits: check if string isalpha\n    - if isalpha print message about being all alpha\n    - if not isalpha print a message about being neither all alpha nor all digit  \n    \ncall the function with a string from user input "
    },
    {
      "metadata": {
        "trusted": true
      },
      "cell_type": "code",
      "source": "# [ ] create and test str_analysis()\ndef str_analysis(message):\n    if message.isdigit():\n        number = int(message)\n        if number > 99:\n            print(number,\"is a pretty big number\")\n        else:\n            print(number,\"is a smaller number than expected\")\n    elif message.isalpha():\n        print(message,\"is all alphabetical characters!\")\n    else:\n        print(message,\"is neither all nor all digit\")\nmessage = input(\"enter word or integer: \")\nwhile not message:\n    message = input(\"enter word or integer: \")\nstr_analysis(message)\n",
      "execution_count": 1,
      "outputs": [
        {
          "output_type": "stream",
          "name": "stdout",
          "text": "enter word or integer: 105\n105 is a pretty big number\n"
        }
      ]
    },
    {
      "metadata": {
        "collapsed": true
      },
      "cell_type": "markdown",
      "source": "# &nbsp;  \n### Program: ticket_check() - finds out if a seat is available  \nCall ticket_check() function with 2 arguments: *section* and *seats* requested and return True or False  \n- **section** is a string and expects: general, floor\n- **seats** is an integer and expects: 1 - 10  \n\nCheck for valid section and seats\n- if section is *general* (or use startswith \"g\")  \n  - if seats is 1-10 return True \n- if section is *floor* (or use starts with \"f\")\n  - if seats is 1-4 return True  \n\notherwise return False"
    },
    {
      "metadata": {
        "trusted": true
      },
      "cell_type": "code",
      "source": "# [ ] create and call ticket_check()\ndef ticket_check(section,seats):\n    if section.startswith(\"g\"):\n        if seats in range(1,11):\n            return True\n    elif section.startswith(\"f\"):\n        if seats in range(1,5):\n            return True\n    else:\n        return False\n\nsection = input(\"enter your section(general or floor): \")\nseats = int(input(\"enter your seat number: \"))\nprint(ticket_check(section,seats))",
      "execution_count": 5,
      "outputs": [
        {
          "output_type": "stream",
          "name": "stdout",
          "text": "enter your section(general or floor): g\nenter your seat number: 5\nTrue\n"
        }
      ]
    },
    {
      "metadata": {
        "collapsed": true
      },
      "cell_type": "markdown",
      "source": "[Terms of use](http://go.microsoft.com/fwlink/?LinkID=206977) &nbsp; [Privacy & cookies](https://go.microsoft.com/fwlink/?LinkId=521839) &nbsp; © 2017 Microsoft"
    }
  ],
  "metadata": {
    "anaconda-cloud": {},
    "kernelspec": {
      "name": "python3",
      "display_name": "Python 3",
      "language": "python"
    },
    "language_info": {
      "mimetype": "text/x-python",
      "nbconvert_exporter": "python",
      "name": "python",
      "pygments_lexer": "ipython3",
      "version": "3.5.4",
      "file_extension": ".py",
      "codemirror_mode": {
        "version": 3,
        "name": "ipython"
      }
    }
  },
  "nbformat": 4,
  "nbformat_minor": 1
}