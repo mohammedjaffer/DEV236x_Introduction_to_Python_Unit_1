{
  "cells": [
    {
      "metadata": {},
      "cell_type": "markdown",
      "source": "# 1-2 Intro Python Practice\n## Strings: input, testing, formatting\n<font size=\"5\" color=\"#00A0B2\"  face=\"verdana\"> <B>Student will be able to</B></font>\n- gather, store and use string `input()`  \n- format `print()` output  \n- test string characteristics  \n- format string output  \n- search for a string in a string  "
    },
    {
      "metadata": {},
      "cell_type": "markdown",
      "source": "## input()\ngetting input from users"
    },
    {
      "metadata": {
        "scrolled": true,
        "trusted": true
      },
      "cell_type": "code",
      "source": "# [ ] get user input for a variable named remind_me\n\nremind_me = input(\"enter an event to set a remainder: \")\n# [ ] print the value of the variable remind_me\nprint(remind_me)\n",
      "execution_count": 2,
      "outputs": [
        {
          "output_type": "stream",
          "name": "stdout",
          "text": "enter an event to set a remainder: My dad asked me to come to the shop at 6pm\nMy dad asked me to come to the shop at 6pm\n"
        }
      ]
    },
    {
      "metadata": {
        "trusted": true
      },
      "cell_type": "code",
      "source": "# use string addition to print \"remember: \" before the remind_me input string\nprint(\"remember: \"+remind_me)\n",
      "execution_count": 3,
      "outputs": [
        {
          "output_type": "stream",
          "text": "remember: My dad asked me to come to the shop at 6pm\n",
          "name": "stdout"
        }
      ]
    },
    {
      "metadata": {},
      "cell_type": "markdown",
      "source": "### Program: Meeting Details\n#### [ ] get user **input** for meeting subject and time\n`what is the meeting subject?: plan for graduation`  \n`what is the meeting time?: 3:00 PM on Monday`  \n\n#### [ ] print **output** with descriptive labels  \n`Meeting Subject: plan for graduation`  \n`Meeting Time:    3:00 PM on Monday`"
    },
    {
      "metadata": {
        "trusted": true
      },
      "cell_type": "code",
      "source": "# [ ] get user input for 2 variables: meeting_subject and meeting_time\nmeeting_subject = input(\"what is the meeting subject?: \")\nmeeting_time = input(\"what is the meeting time?: \")\n# [ ] use string addition to print meeting subject and time with labels\nprint(\"Meeting Subject: \",meeting_subject)\nprint(\"Meeting Time: \",meeting_time)\n\n",
      "execution_count": 4,
      "outputs": [
        {
          "output_type": "stream",
          "name": "stdout",
          "text": "what is the meeting subject?: plan for graduation\nwhat is the meeting time?: 3:00 PM on Monday\nMeeting Subject:  plan for graduation\nMeeting Time:  3:00 PM on Monday\n"
        }
      ]
    },
    {
      "metadata": {
        "collapsed": true
      },
      "cell_type": "markdown",
      "source": "## print() formatting \n### combining multiple strings separated by commas in the print() function"
    },
    {
      "metadata": {
        "trusted": true
      },
      "cell_type": "code",
      "source": "# [ ] print the combined strings \"Wednesday is\" and \"in the middle of the week\" \nprint(\"Wednesday is \" + \"in the middle of the week\" )\n",
      "execution_count": 5,
      "outputs": [
        {
          "output_type": "stream",
          "text": "Wednesday is in the middle of the week\n",
          "name": "stdout"
        }
      ]
    },
    {
      "metadata": {
        "trusted": true
      },
      "cell_type": "code",
      "source": "# [ ] print combined string \"Remember to\" and the string variable remind_me from input above\n\nprint(\"Remember that \"+remind_me)",
      "execution_count": 7,
      "outputs": [
        {
          "output_type": "stream",
          "text": "Remember that My dad asked me to come to the shop at 6pm\n",
          "name": "stdout"
        }
      ]
    },
    {
      "metadata": {
        "trusted": false
      },
      "cell_type": "code",
      "source": "# [ ] Combine 3 variables from above with multiple strings\n\n",
      "execution_count": null,
      "outputs": []
    },
    {
      "metadata": {
        "collapsed": true
      },
      "cell_type": "markdown",
      "source": "### print() quotation marks"
    },
    {
      "metadata": {
        "trusted": true
      },
      "cell_type": "code",
      "source": "# [ ] print a string sentence that will display an Apostrophe (')\n\nprint(\"what\\'s the time now?\")\n",
      "execution_count": 8,
      "outputs": [
        {
          "output_type": "stream",
          "text": "what's the time now?\n",
          "name": "stdout"
        }
      ]
    },
    {
      "metadata": {
        "trusted": true
      },
      "cell_type": "code",
      "source": "# [ ] print a string sentence that will display a quote(\") or quotes\nprint(\"My name is \\\"Mohammed\\\"\")\n\n",
      "execution_count": 9,
      "outputs": [
        {
          "output_type": "stream",
          "text": "My name is \"Mohammed\"\n",
          "name": "stdout"
        }
      ]
    },
    {
      "metadata": {
        "collapsed": true
      },
      "cell_type": "markdown",
      "source": "## Boolean string tests"
    },
    {
      "metadata": {},
      "cell_type": "markdown",
      "source": "### Vehicle tests  \n#### get user input for a variable named vehicle  \nprint the following tests results  \n- check True or False if vehicle is All alphabetical characters using .isalpha()  \n- check True or False if vehicle is only All alphabetical & numeric characters  \n- check True or False if vehicle is Capitalized (first letter only)  \n- check True or False if vehicle is All lowercase  \n- **bonus** print description for each test (e.g.- `\"All Alpha: True\"`)"
    },
    {
      "metadata": {
        "trusted": true
      },
      "cell_type": "code",
      "source": "# [ ] complete vehicle tests \nvehicle = input(\"enter your vehicle name: \")\nprint(vehicle.isalpha())\nprint(vehicle.isalnum())\nprint(vehicle.istitle())\nprint(vehicle.islower())\nprint(\"All Alpha:\",vehicle.isalpha())\n",
      "execution_count": 14,
      "outputs": [
        {
          "output_type": "stream",
          "name": "stdout",
          "text": "enter your vehicle name: PulsarRS200\nFalse\nTrue\nFalse\nFalse\nAll Alpha: False\n"
        }
      ]
    },
    {
      "metadata": {
        "trusted": false
      },
      "cell_type": "code",
      "source": "# [ ] print True or False if color starts with \"b\" \n\n",
      "execution_count": null,
      "outputs": []
    },
    {
      "metadata": {
        "collapsed": true,
        "trusted": false
      },
      "cell_type": "code",
      "source": "",
      "execution_count": null,
      "outputs": []
    },
    {
      "metadata": {},
      "cell_type": "markdown",
      "source": "## Sting formatting"
    },
    {
      "metadata": {
        "trusted": true
      },
      "cell_type": "code",
      "source": "# [ ] print the string variable capital_this Capitalizing only the first letter\ncapitalize_this = \"the TIME is Noon.\"\nprint(capitalize_this.capitalize())\n",
      "execution_count": 16,
      "outputs": [
        {
          "output_type": "stream",
          "text": "The time is noon.\n",
          "name": "stdout"
        }
      ]
    },
    {
      "metadata": {
        "trusted": true
      },
      "cell_type": "code",
      "source": "# print the string variable swap_this in swapped case\nswap_this = \"wHO writes LIKE tHIS?\"\nprint(swap_this.swapcase())\n",
      "execution_count": 17,
      "outputs": [
        {
          "output_type": "stream",
          "text": "Who WRITES like This?\n",
          "name": "stdout"
        }
      ]
    },
    {
      "metadata": {
        "trusted": true
      },
      "cell_type": "code",
      "source": "# print the string variable whisper_this in all lowercase\nwhisper_this = \"Can you hear me?\"\nprint(whisper_this.lower())\n",
      "execution_count": 18,
      "outputs": [
        {
          "output_type": "stream",
          "text": "can you hear me?\n",
          "name": "stdout"
        }
      ]
    },
    {
      "metadata": {
        "trusted": true
      },
      "cell_type": "code",
      "source": "# print the string variable yell_this in all UPPERCASE\nyell_this = \"Can you hear me Now!?\"\nprint(yell_this.upper())\n",
      "execution_count": 19,
      "outputs": [
        {
          "output_type": "stream",
          "text": "CAN YOU HEAR ME NOW!?\n",
          "name": "stdout"
        }
      ]
    },
    {
      "metadata": {
        "trusted": true
      },
      "cell_type": "code",
      "source": "#format input using .upper(), .lower(), .swapcase, .capitalize()\nformat_input = input('enter a string to reformat: ')\nprint(format_input.upper())\nprint(format_input.lower())\nprint(format_input.swapcase())\nprint(format_input.capitalize())",
      "execution_count": 20,
      "outputs": [
        {
          "output_type": "stream",
          "name": "stdout",
          "text": "enter a string to reformat: MOhaMMed JaFFeR\nMOHAMMED JAFFER\nmohammed jaffer\nmoHAmmED jAffEr\nMohammed jaffer\n"
        }
      ]
    },
    {
      "metadata": {},
      "cell_type": "markdown",
      "source": "### input() formatting"
    },
    {
      "metadata": {
        "trusted": true
      },
      "cell_type": "code",
      "source": "# [ ] get user input for a variable named color\n# [ ] modify color to be all lowercase and print\ncolor = input(\"enter the name of color: \")\nprint(color.lower())\n",
      "execution_count": 24,
      "outputs": [
        {
          "output_type": "stream",
          "name": "stdout",
          "text": "enter the name of color: RED\nred\n"
        }
      ]
    },
    {
      "metadata": {
        "trusted": true
      },
      "cell_type": "code",
      "source": "# [ ] get user input using variable remind_me and format to all **lowercase** and print\n# [ ] test using input with mixed upper and lower cases\nprint(remind_me.lower())\nprint(remind_me.islower())",
      "execution_count": 26,
      "outputs": [
        {
          "output_type": "stream",
          "text": "my dad asked me to come to the shop at 6pm\nFalse\n",
          "name": "stdout"
        }
      ]
    },
    {
      "metadata": {
        "trusted": true
      },
      "cell_type": "code",
      "source": "# [] get user input for the variable yell_this and format as a \"YELL\" to ALL CAPS\nyell_this = input(\"enter the thing that you want to say loudly: \")\nprint(yell_this.upper())",
      "execution_count": 27,
      "outputs": [
        {
          "output_type": "stream",
          "name": "stdout",
          "text": "enter the thing that you want to say loudly: programming is awesome\nPROGRAMMING IS AWESOME\n"
        }
      ]
    },
    {
      "metadata": {
        "collapsed": true,
        "trusted": false
      },
      "cell_type": "code",
      "source": "",
      "execution_count": null,
      "outputs": []
    },
    {
      "metadata": {},
      "cell_type": "markdown",
      "source": "## \"in\" keyword\n### boolean: short_str in long_str"
    },
    {
      "metadata": {
        "trusted": true
      },
      "cell_type": "code",
      "source": "# [ ] get user input for the name of some animals in the variable animals_input\nanimals_input = input(\"enter name of some animals: \")\n\n# [ ] print true or false if 'cat' is in the string variable animals_input\nprint('cat' in animals_input)\n",
      "execution_count": 28,
      "outputs": [
        {
          "output_type": "stream",
          "name": "stdout",
          "text": "enter name of some animals: dog, horse, cat\nTrue\n"
        }
      ]
    },
    {
      "metadata": {
        "trusted": true
      },
      "cell_type": "code",
      "source": "# [ ] get user input for color\ncolor = input(\"enter the name of color: \")\n\n\n# [ ] print True or False for starts with \"b\"\nprint(color.startswith('b'))\n\n# [ ] print color variable value exactly as input \n#     test with input: \"Blue\", \"BLUE\", \"bLUE\"\n\n\n\n",
      "execution_count": 30,
      "outputs": [
        {
          "output_type": "stream",
          "name": "stdout",
          "text": "enter the name of color: Blue\nFalse\n"
        }
      ]
    },
    {
      "metadata": {},
      "cell_type": "markdown",
      "source": "## Program: guess what I'm reading\n### short_str in long_str\n\n1. **[ ]** get user **`input`** for a single word describing something that can be read \n save in a variable called **can_read**  \n e.g. - \"website\", \"newspaper\", \"blog\", \"textbook\"  \n &nbsp;  \n2. **[ ]** get user **`input`** for 3 things can be read  \n save in a variable called **can_read_things**  \n&nbsp;  \n\n3. **[ ]** print **`true`** if the **can_read** string is found  \n **in** the **can_read_things** string variable\n  \n*example of program input and output*  \n[![01 02 practice Allergy-input](https://iajupyterprodblobs.blob.core.windows.net/imagecontainer/guess_reading.gif) ](https://1drv.ms/i/s!Am_KPRosgtaij7A_G6RtDlWZeYA3ZA)\n"
    },
    {
      "metadata": {
        "trusted": true
      },
      "cell_type": "code",
      "source": "# project: \"guess what I'm reading\"\n\n# 1[ ] get 1 word input for can_read variable\ncan_read = input(\"enter 1 word item that can be read: \")\n\n# 2[ ] get 3 things input for can_read_things variable\ncan_read_things = input(\"enter 3 word item that can be read: \")\n\n# 3[ ] print True if can_read is in can_read_things\nprint(can_read in can_read_things)\n\n# [] challenge: format the output to read \"item found = True\" (or false)\n# hint: look print formatting exercises\nprint(\"item found = \",can_read in can_read_things)\n",
      "execution_count": 22,
      "outputs": [
        {
          "output_type": "stream",
          "name": "stdout",
          "text": "enter 1 word item that can be read: website\nenter 3 word item that can be read: website, newspaper, blog, textbook\nTrue\nitem found =  True\n"
        }
      ]
    },
    {
      "metadata": {},
      "cell_type": "markdown",
      "source": "## Program: Allergy Check\n\n1. **[ ]** get user **`input`** for categories of food eaten in the last 24 hours  \n save in a variable called **input_test**  \n *example input*\n [![01 02 practice Allergy-input](https://iajupyterprodblobs.blob.core.windows.net/imagecontainer/eaten_input.gif) ](https://1drv.ms/i/s!Am_KPRosgtaij65qzFD5CGvv95-ijg)\n&nbsp;  \n2. **[ ]** print **`True`** if \"dairy\" is in the **input_test** string  \n**[ ]** Test the code so far  \n&nbsp;\n3. **[ ]** modify the print statement to output similar to below  \n*example output*\n[![01 02 Allergy output](https://iajupyterprodblobs.blob.core.windows.net/imagecontainer/eaten_output.gif) ](https://1drv.ms/i/s!Am_KPRosgtaij65rET-wmlpCdMX7CQ)  \nTest the code so far trying input including the string \"dairy\" and without  \n&nbsp;  \n\n4. **[ ]** repeat the process checking the input for \"nuts\", **challenge** add \"Seafood\" and \"chocolate\"  \n**[ ]** Test your code  \n&nbsp;  \n  \n5. **[ ] challenge:** make your code work for input regardless of case, e.g. - print **`True`** for \"Nuts\", \"NuTs\", \"NUTS\" or \"nuts\"  \n"
    },
    {
      "metadata": {
        "trusted": true
      },
      "cell_type": "code",
      "source": "# Allergy check \n\n# 1[ ] get input for test\ninput_test = input(\"enter something eaten in last 24 hrs: \")\n\n\n# 2/3[ ] print True if \"dairy\" is in the input or False if not\nprint('dairy' in input_test.lower())\nprint(\"It is\" ,'dairy' in input_test.lower(), 'that','\"' + input_test +'\" contains \"dairy\"' )\n# 4[ ] Check if \"nuts\" are in the input\nprint(\"It is\" ,'nuts' in input_test.lower(), 'that','\"' + input_test +'\" contains \"nuts\"' )\n# 4+[ ] Challenge: Check if \"seafood\" is in the input\nprint(\"It is\" ,'seafood' in input_test.lower(), 'that','\"' + input_test +'\" contains \"seafood\"' )\n# 4+[ ] Challenge: Check if \"chocolate\" is in the input\nprint(\"It is\" ,'chocolate' in input_test.lower(), 'that','\"' + input_test +'\" contains \"chocolate\"' )\n",
      "execution_count": 1,
      "outputs": [
        {
          "output_type": "stream",
          "name": "stdout",
          "text": "enter something eaten in last 24 hrs: Seafood,dairy,nuts, and chocolate cake\nTrue\nIt is True that \"Seafood,dairy,nuts, and chocolate cake\" contains \"dairy\"\nIt is True that \"Seafood,dairy,nuts, and chocolate cake\" contains \"nuts\"\nIt is True that \"Seafood,dairy,nuts, and chocolate cake\" contains \"seafood\"\nIt is True that \"Seafood,dairy,nuts, and chocolate cake\" contains \"chocolate\"\n"
        }
      ]
    },
    {
      "metadata": {},
      "cell_type": "markdown",
      "source": "[Terms of use](http://go.microsoft.com/fwlink/?LinkID=206977) &nbsp; [Privacy & cookies](https://go.microsoft.com/fwlink/?LinkId=521839) &nbsp; © 2017 Microsoft"
    }
  ],
  "metadata": {
    "anaconda-cloud": {},
    "kernelspec": {
      "name": "python3",
      "display_name": "Python 3",
      "language": "python"
    },
    "language_info": {
      "mimetype": "text/x-python",
      "nbconvert_exporter": "python",
      "name": "python",
      "pygments_lexer": "ipython3",
      "version": "3.5.4",
      "file_extension": ".py",
      "codemirror_mode": {
        "version": 3,
        "name": "ipython"
      }
    }
  },
  "nbformat": 4,
  "nbformat_minor": 1
}