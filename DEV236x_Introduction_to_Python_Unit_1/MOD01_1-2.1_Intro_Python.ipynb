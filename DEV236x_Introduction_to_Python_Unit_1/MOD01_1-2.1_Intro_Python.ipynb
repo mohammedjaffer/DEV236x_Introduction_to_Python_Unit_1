{
  "cells": [
    {
      "metadata": {
        "collapsed": true
      },
      "cell_type": "markdown",
      "source": "# 1-2.1 Intro Python\n## Strings: input, testing, formatting\n- **input() - gathering user input**  \n- print() formatting \n- Quotes inside strings\n- Boolean string tests methods\n- String formatting methods\n- Formatting string input()\n- Boolean `in` keyword \n\n-----\n\n><font size=\"5\" color=\"#00A0B2\"  face=\"verdana\"> <B>Student will be able to</B></font>\n- **gather, store and use string `input()`**  \n- format `print()` output\n- test string characteristics\n- format string output\n- search for a string in a string"
    },
    {
      "metadata": {
        "collapsed": true
      },
      "cell_type": "markdown",
      "source": "# &nbsp;  \n<font size=\"6\" color=\"#00A0B2\"  face=\"verdana\"> <B>Concepts</B></font> \n\n## input()  \n### get information from users with `input()`  \nthe **`input()`** function prompts the user to supply data returning that data as a string\n\n[![view video](https://iajupyterprodblobs.blob.core.windows.net/imagecontainer/common/play_video.png)]( http://edxinteractivepage.blob.core.windows.net/edxpages/f7cff1a7-5601-48a1-95a6-fd1fdfabd20e.html?details=[{\"src\":\"http://jupyternootbookwams.streaming.mediaservices.windows.net/7a8881cb-0bdd-493c-b1a1-9849a95d05e6/Unit1_Section2-1-input-basic.ism/manifest\",\"type\":\"application/vnd.ms-sstr+xml\"}],[{\"src\":\"http://jupyternootbookwams.streaming.mediaservices.windows.net/7a8881cb-0bdd-493c-b1a1-9849a95d05e6/Unit1_Section2-1-input-basic.vtt\",\"srclang\":\"en\",\"kind\":\"subtitles\",\"label\":\"english\"}])\n"
    },
    {
      "metadata": {},
      "cell_type": "markdown",
      "source": "<font size=\"6\" color=\"#00A0B2\"  face=\"verdana\"> <B>Examples</B></font>  "
    },
    {
      "metadata": {
        "trusted": true
      },
      "cell_type": "code",
      "source": "# review and run code - enter a small integer in the text box\nprint(\"enter a small int: \")\nsmall_int = input()\nprint(\"small int: \")\nprint(small_int)",
      "execution_count": 1,
      "outputs": [
        {
          "output_type": "stream",
          "text": "enter a small int: \n5\nsmall int: \n5\n",
          "name": "stdout"
        }
      ]
    },
    {
      "metadata": {},
      "cell_type": "markdown",
      "source": "# &nbsp;\n<font size=\"6\" color=\"#B24C00\"  face=\"verdana\"> <B>Task 1</B></font>\n## storing input in a variable\n- **[ ]** create code to store input in student_name variable  \nan input box should when run\n- **[ ]** type a name in the input box and press **Enter**\n- **[ ]** determine the **`type()`** of **student_name**"
    },
    {
      "metadata": {
        "trusted": true
      },
      "cell_type": "code",
      "source": "# [ ] get input for the variable student_name\nstudent_input = input(\"enter the student name: \")\n# [ ] determine the type of student_name\ntype(student_input)\n\n",
      "execution_count": 2,
      "outputs": [
        {
          "output_type": "stream",
          "name": "stdout",
          "text": "enter the student name: Mohammed\n"
        },
        {
          "output_type": "execute_result",
          "execution_count": 2,
          "data": {
            "text/plain": "str"
          },
          "metadata": {}
        }
      ]
    },
    {
      "metadata": {},
      "cell_type": "markdown",
      "source": "<font size=\"4\" color=\"#B24C00\"  face=\"verdana\"> <B>Task 1 continued...</B></font>  \n> **note**: **`input()`** returns a string (type = str) regardless of entry\n- if a string is entered **`input()`** returns a string\n- if a number is entered **`input()`** returns a string  \n  \n- **[ ]** determine the **`type()`**  of input below by entering\n  - a name\n  - an integer (whole number no decimal)\n  - a float a number with a decimal point"
    },
    {
      "metadata": {
        "trusted": true
      },
      "cell_type": "code",
      "source": "# [ ] run cell several times entering a name a int number and a float number after adding code below\nprint(\"enter a name or number\")\ntest_input = input()\n# [ ] insert code below to check the type of test_input\ntype(test_input)\n\n",
      "execution_count": 3,
      "outputs": [
        {
          "output_type": "stream",
          "text": "enter a name or number\n10\n",
          "name": "stdout"
        },
        {
          "output_type": "execute_result",
          "execution_count": 3,
          "data": {
            "text/plain": "str"
          },
          "metadata": {}
        }
      ]
    },
    {
      "metadata": {},
      "cell_type": "markdown",
      "source": "# &nbsp;\n<font size=\"6\" color=\"#00A0B2\"  face=\"verdana\"> <B>Concepts</B></font>  \n### user prompts using `input()`\n\nthe **`input()`** function has an optional string argument which displays the string intended to inform a user what to enter  \n**`input()`** works similar to **`print()`**&nbsp;in the way it displays arguments as output  \n\n[![view video](https://iajupyterprodblobs.blob.core.windows.net/imagecontainer/common/play_video.png)]( http://edxinteractivepage.blob.core.windows.net/edxpages/f7cff1a7-5601-48a1-95a6-fd1fdfabd20e.html?details=[{\"src\":\"http://jupyternootbookwams.streaming.mediaservices.windows.net/c607aa57-b18b-4f29-a317-7b13db66d8e8/Unit1_Section2-1-input-prompt.ism/manifest\",\"type\":\"application/vnd.ms-sstr+xml\"}],[{\"src\":\"http://jupyternootbookwams.streaming.mediaservices.windows.net/c607aa57-b18b-4f29-a317-7b13db66d8e8/Unit1_Section2-1-input-prompt.vtt\",\"srclang\":\"en\",\"kind\":\"subtitles\",\"label\":\"english\"}])\n"
    },
    {
      "metadata": {},
      "cell_type": "markdown",
      "source": "# &nbsp;\n<font size=\"6\" color=\"#00A0B2\"  face=\"verdana\"> <B>Examples</B></font>"
    },
    {
      "metadata": {
        "trusted": true
      },
      "cell_type": "code",
      "source": "student_name = input(\"enter the student name: \")  \nprint(\"Hi \" + student_name)",
      "execution_count": 4,
      "outputs": [
        {
          "output_type": "stream",
          "name": "stdout",
          "text": "enter the student name: Mohammed Jaffer\nHi Mohammed Jaffer\n"
        }
      ]
    },
    {
      "metadata": {},
      "cell_type": "markdown",
      "source": "# &nbsp;\n<font size=\"6\" color=\"#B24C00\"  face=\"verdana\"> <B>Task 2</B></font>  \n## prompting the user for input\n- **[ ]** create a variable named **city** to store input, add a prompt for the name of a city\n- **[ ]** print \"the city name is \" followed by the value stored in **city**"
    },
    {
      "metadata": {
        "trusted": true
      },
      "cell_type": "code",
      "source": "# [ ] get user input for a city name in the variable named city\ncity = input(\"enter name of your city: \")\n# [ ] print the city name\nprint(city)\n\n",
      "execution_count": 6,
      "outputs": [
        {
          "output_type": "stream",
          "name": "stdout",
          "text": "enter name of your city: Davangere\nDavangere\n"
        }
      ]
    },
    {
      "metadata": {
        "collapsed": true
      },
      "cell_type": "markdown",
      "source": "\n<font size=\"4\" color=\"#B24C00\"  face=\"verdana\"> <B>Task 2 cont...</B></font>  \n## multiple prompts for user input\noften programs need information on multiple items\n- **[ ]** create variables to store input: **name**, **age**, **get_mail**\n- **[ ]** create prompts for name, age and yes/no to being on an email list\n- **[ ]** print description + input values   \n\n>example print output:  \n`name = Alton`  \n`age =  17`  \n`wants email = yes`  \n  \n**tip**: with multiple input statements, after each prompt, **click 'in' the input box** to continue entering input "
    },
    {
      "metadata": {
        "trusted": true
      },
      "cell_type": "code",
      "source": "# [ ]create variables to store input: name, age, get_mail with prompts\n# for name, age and yes/no to being on an email list\nname = input()\nage = input()\nget_mail = input()\n# [ ] print a description + variable value for each variable\nprint(\"name = \"+ name + '\\n' +\"age = \" + age + '\\n' + \"wants email = \"+get_mail)\n\n",
      "execution_count": 8,
      "outputs": [
        {
          "output_type": "stream",
          "name": "stdout",
          "text": "Alton\n17\nyes\nname = Alton\nage = 17\nwants email = yes\n"
        }
      ]
    },
    {
      "metadata": {},
      "cell_type": "markdown",
      "source": "[Terms of use](http://go.microsoft.com/fwlink/?LinkID=206977) &nbsp; [Privacy & cookies](https://go.microsoft.com/fwlink/?LinkId=521839) &nbsp; © 2017 Microsoft"
    }
  ],
  "metadata": {
    "anaconda-cloud": {},
    "kernelspec": {
      "name": "python3",
      "display_name": "Python 3",
      "language": "python"
    },
    "language_info": {
      "mimetype": "text/x-python",
      "nbconvert_exporter": "python",
      "name": "python",
      "pygments_lexer": "ipython3",
      "version": "3.5.4",
      "file_extension": ".py",
      "codemirror_mode": {
        "version": 3,
        "name": "ipython"
      }
    }
  },
  "nbformat": 4,
  "nbformat_minor": 1
}