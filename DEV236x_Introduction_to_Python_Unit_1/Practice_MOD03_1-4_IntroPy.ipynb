{
  "cells": [
    {
      "metadata": {},
      "cell_type": "markdown",
      "source": "# 1-4.3 Intro Python Practice\n## Conditionals \n<font size=\"5\" color=\"#00A0B2\"  face=\"verdana\"> <B>Student will be able to</B></font>  \n- **control code flow with `if`... `else` conditional logic**  \n  - using Boolean string methods (`.isupper(), .isalpha(), .startswith()...`)  \n  - using comparision (`>, <, >=, <=, ==, !=`)  \n  - using Strings in comparisons  "
    },
    {
      "metadata": {},
      "cell_type": "markdown",
      "source": "## `if else`\n"
    },
    {
      "metadata": {
        "trusted": true
      },
      "cell_type": "code",
      "source": "# [ ] input avariable: age as digit and cast to int\n# if age greater than or equal to 12 then print message on age in 10 years \n# or else print message \"It is good to be\" age\nage = int(input(\"enter the age: \"))\nif age>= 12:\n    print(\"age in 10 years \",age+10)\nelse:\n    print(\"It is good to be \",age)\n\n\n",
      "execution_count": 1,
      "outputs": [
        {
          "output_type": "stream",
          "name": "stdout",
          "text": "enter the age: 21\nage in 10 years  31\n"
        }
      ]
    },
    {
      "metadata": {
        "trusted": true
      },
      "cell_type": "code",
      "source": "# [ ] input a number \n# if number IS a digit string then cast to int\n# print number \"greater than 100 is\" True/False\n# if number is NOT a digit string then message the user that \"only int is accepted\"\nvar = input(\"enter alphabet or number: \")\nif var.isdigit():\n    var = int(var)\n    if var > 100:\n        print(\"greater than 100 is \",True)\n    else: \n        print(\"greater than 100 is \",False)\nelse:\n    print(\"only int is accepted\")\n\n",
      "execution_count": 4,
      "outputs": [
        {
          "output_type": "stream",
          "name": "stdout",
          "text": "enter alphabet or number: 105\ngreater than 100 is  True\n"
        }
      ]
    },
    {
      "metadata": {},
      "cell_type": "markdown",
      "source": "### Guessing a letter A-Z  \n**check_guess()** takes 2 string arguments: **letter and guess** (both expect single alphabetical character)   \n    - if guess is not an alpha character print invalid and return False\n    - test and print if guess is \"high\" or \"low\" and return False\n    - test and print if guess is \"correct\" and return True"
    },
    {
      "metadata": {
        "trusted": true
      },
      "cell_type": "code",
      "source": "# [ ] create check_guess()\n# call with test\ndef check_guess(letter,guess):\n    if not guess.isalpha():\n        print(\"invalid\")\n        return False\n    else:    \n        if guess > letter:\n            print(\"high\")\n            return False\n        elif guess < letter:\n            print(\"low\")\n            return False\n        elif guess == letter:\n            print(\"correct\")\n            return True\n",
      "execution_count": 6,
      "outputs": []
    },
    {
      "metadata": {
        "trusted": true
      },
      "cell_type": "code",
      "source": "# [ ] call check_guess with user input\nguess = input(\"guess the letter between A-Z: \").upper()\nprint(check_guess('M',guess))\n",
      "execution_count": 8,
      "outputs": [
        {
          "output_type": "stream",
          "name": "stdout",
          "text": "guess the letter between A-Z: m\ncorrect\nTrue\n"
        }
      ]
    },
    {
      "metadata": {},
      "cell_type": "markdown",
      "source": "### Letter Guess\n**create letter_guess() function that gives user 3 guesses**\n- takes a letter character argument for the answer letter\n- gets user input for letter guess  \n- calls check_guess() with answer and guess\n- End letter_guess if \n    - check_guess() equals True, return True  \n    - or after 3 failed attempts, return False"
    },
    {
      "metadata": {
        "trusted": true
      },
      "cell_type": "code",
      "source": "# [ ] create letter_guess() function, call the function to test\ndef letter_guess(letter,guess):\n    if not guess.isalpha():\n        print(\"invalid\")\n        return False\n    else:    \n        if guess > letter:\n            print(\"high\")\n            return False\n        elif guess < letter:\n            print(\"low\")\n            return False\n        elif guess == letter:\n            print(\"correct\")\n            return True\ncount = 0\nwhile True:\n    guess = input(\"guess the letter between A-Z: \").upper()\n    count +=1\n    \n    if check_guess('M',guess) == True:\n        break\n    if count == 3:\n        break\nprint(\"sorry, out of tries\")\n#print(check_guess('M',guess))\n",
      "execution_count": 20,
      "outputs": [
        {
          "output_type": "stream",
          "name": "stdout",
          "text": "guess the letter between A-Z: j\nlow\nguess the letter between A-Z: k\nlow\nguess the letter between A-Z: l\nlow\nsorry, out of tries\n"
        }
      ]
    },
    {
      "metadata": {},
      "cell_type": "markdown",
      "source": "### Pet Conversation\n**ask the user for a sentence about a pet and then reply**  \n- get user input in variable: about_pet\n- using a series of **if** statements respond with appropriate conversation\n  - check if \"dog\" is in the string about_pet (sample reply \"Ah, a dog\")\n  - check if \"cat\" is in the string about_pet\n  - check if 1 or more animal is in string about_pet\n- no need for **else**'s\n- finish with thanking for the story"
    },
    {
      "metadata": {
        "trusted": true
      },
      "cell_type": "code",
      "source": "# [ ] complete pet conversation\nabout_pet = input(\"enter about your pet: \")\nif 'dog' in about_pet.lower():\n    print(\"Ah, a dog\")\nif 'cat' in about_pet.lower():\n    print(\"Ah, a cat\")\nif 'dog' in about_pet.lower():\n    if 'cat' in about_pet.lower():\n        print(\"Ah, both dog and cat\")\nprint(\"Thanks for the story\")            ",
      "execution_count": 21,
      "outputs": [
        {
          "output_type": "stream",
          "name": "stdout",
          "text": "enter about your pet: i have cat and dog\nAh, a dog\nAh, a cat\nAh, both dog and cat\nThanks for the story\n"
        }
      ]
    },
    {
      "metadata": {
        "collapsed": true
      },
      "cell_type": "markdown",
      "source": "[Terms of use](http://go.microsoft.com/fwlink/?LinkID=206977) &nbsp; [Privacy & cookies](https://go.microsoft.com/fwlink/?LinkId=521839) &nbsp; © 2017 Microsoft"
    }
  ],
  "metadata": {
    "anaconda-cloud": {},
    "kernelspec": {
      "name": "python3",
      "display_name": "Python 3",
      "language": "python"
    },
    "language_info": {
      "mimetype": "text/x-python",
      "nbconvert_exporter": "python",
      "name": "python",
      "file_extension": ".py",
      "version": "3.5.4",
      "pygments_lexer": "ipython3",
      "codemirror_mode": {
        "version": 3,
        "name": "ipython"
      }
    }
  },
  "nbformat": 4,
  "nbformat_minor": 1
}