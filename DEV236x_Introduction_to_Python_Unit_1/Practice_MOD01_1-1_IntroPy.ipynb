{
  "cells": [
    {
      "metadata": {
        "collapsed": true
      },
      "cell_type": "markdown",
      "source": "# 1-1 Intro Python Practice\n##  Getting started with Python in Jupyter Notebooks\n### notebooks, comments, print(), type(), addition, errors and art\n\n<font size=\"5\" color=\"#00A0B2\"  face=\"verdana\"> <B>Student will be able to</B></font>\n- use Python 3 in Jupyter notebooks\n- write working code using `print()` and `#` comments  \n- write working code using `type()` and variables\n- combine strings using string addition (+)\n- add numbers in code (+)\n- troubleshoot errors\n- create character art  \n\n# &nbsp;\n>**note:** the **[ ]** indicates student has a task to complete  \n  \n>**reminder:** to run code and save changes: student should upload or clone a copy of notebooks \n\n#### notebook use\n- [ ] insert a **code cell** below   \n- [ ] enter the following Python code, including the comment: \n```python \n# [ ] print 'Hello!' and remember to save notebook!\nprint('Hello!')\n```\nThen run the code - the output should be:  \n`Hello!`"
    },
    {
      "metadata": {
        "trusted": false
      },
      "cell_type": "code",
      "source": "",
      "execution_count": null,
      "outputs": []
    },
    {
      "metadata": {
        "trusted": true
      },
      "cell_type": "code",
      "source": "# [ ] print 'Hello!' and remember to save notebook!\nprint('Hello!')",
      "execution_count": 1,
      "outputs": [
        {
          "output_type": "stream",
          "text": "Hello!\n",
          "name": "stdout"
        }
      ]
    },
    {
      "metadata": {},
      "cell_type": "markdown",
      "source": "#### run the cell below   \n- [ ] use **Ctrl + Enter**  \n- [ ] use **Shift + Enter**    "
    },
    {
      "metadata": {
        "trusted": true
      },
      "cell_type": "code",
      "source": "print('watch for the cat')",
      "execution_count": 2,
      "outputs": [
        {
          "output_type": "stream",
          "text": "watch for the cat\n",
          "name": "stdout"
        }
      ]
    },
    {
      "metadata": {},
      "cell_type": "markdown",
      "source": "#### Student's Notebook editing\n- [ ] Edit **this** notebook Markdown cell replacing the word \"Student's\" above with your name\n- [ ] Run the cell to display the formatted text\n- [ ] Run any 'markdown' cells that are in edit mode, so they are easier to read"
    },
    {
      "metadata": {},
      "cell_type": "markdown",
      "source": "#### [ ] convert \\*this\\* cell from markdown to a code cell, then run it  \nprint('Run as a code cell')\n"
    },
    {
      "metadata": {},
      "cell_type": "markdown",
      "source": "##  # comments\ncreate a code comment that identifies this notebook, containing your name and the date"
    },
    {
      "metadata": {
        "trusted": true
      },
      "cell_type": "code",
      "source": "# [ ] print 'Hello!' and remember to save notebook!",
      "execution_count": 3,
      "outputs": []
    },
    {
      "metadata": {},
      "cell_type": "markdown",
      "source": "#### use print() to \n- [ ] print [**your_name**]\n- [ ] print **is using python!**"
    },
    {
      "metadata": {
        "trusted": true
      },
      "cell_type": "code",
      "source": "# [ ] print your name\nprint(\"Mohammed Jaffer\")\n# [ ] print \"is using Python\"\nprint(\"is using Python\")\n",
      "execution_count": 5,
      "outputs": [
        {
          "output_type": "stream",
          "text": "Mohammed Jaffer\nis using Python\n",
          "name": "stdout"
        }
      ]
    },
    {
      "metadata": {},
      "cell_type": "markdown",
      "source": "Output above should be:  \n`Your Name  \nis using Python!`  "
    },
    {
      "metadata": {},
      "cell_type": "markdown",
      "source": "#### use variables in print()\n- [ ] create a variable **your_name** and assign it a string containing your name\n- [ ] print **your_name**"
    },
    {
      "metadata": {
        "trusted": true
      },
      "cell_type": "code",
      "source": "# [ ] create a variable your_name and assign it a sting containing your name\nyour_name = \"Mohammed Jaffer\"\n#[ ] print your_name\nprint(your_name)\n",
      "execution_count": 7,
      "outputs": [
        {
          "output_type": "stream",
          "text": "Mohammed Jaffer\n",
          "name": "stdout"
        }
      ]
    },
    {
      "metadata": {},
      "cell_type": "markdown",
      "source": "#### create more string variables\n- **[ ]** create variables as directed below\n- **[ ]** print the variables"
    },
    {
      "metadata": {
        "trusted": true
      },
      "cell_type": "code",
      "source": "# [ ] create variables and assign values for: favorite_song, shoe_size, lucky_number\nfavorite_song = \"Kaise batayein ke tujhko chahein(APKGK)\"\nshoe_size = \"9\"\nlucky_number = \"4\"\n# [ ] print the value of each variable favorite_song, shoe_size, and lucky_number\nprint(favorite_song)\nprint(shoe_size)\nprint(lucky_number)",
      "execution_count": 12,
      "outputs": [
        {
          "output_type": "stream",
          "text": "Kaise batayein ke tujhko chahein(APKGK)\n9\n4\n",
          "name": "stdout"
        }
      ]
    },
    {
      "metadata": {},
      "cell_type": "markdown",
      "source": "#### use string addition\n- **[ ]**  print the above string variables (favorite_song, shoe_size, lucky_number) combined with a description by using **string addition**\n>for example favorite_song displayed as:  \n`favorite song is happy birthday`"
    },
    {
      "metadata": {
        "trusted": true
      },
      "cell_type": "code",
      "source": "# [ ] print favorite_song with description\nprint(\"favorite song is \"+favorite_song)\n\n\n# [ ] print shoe_size with description\nprint(\"shoe size is \"+shoe_size)\n\n# [ ] print lucky_number with description\nprint(\"lucky number is \"+lucky_number)\n\n",
      "execution_count": 14,
      "outputs": [
        {
          "output_type": "stream",
          "text": "favorite song is Kaise batayein ke tujhko chahein(APKGK)\nshoe size is 9\nlucky number is 4\n",
          "name": "stdout"
        }
      ]
    },
    {
      "metadata": {},
      "cell_type": "markdown",
      "source": "##### more string addition\n- **[ ]** make a single string (sentence) in a variable called favorite_lucky_shoe using **string addition** with favorite_song, shoe_size, lucky_number variables and other strings as needed \n- **[ ]** print the value of the favorite_lucky_shoe variable string\n> sample output:  \n`For singing happy birthday 8.5 times, you will be fined $25`"
    },
    {
      "metadata": {
        "trusted": true
      },
      "cell_type": "code",
      "source": "# assign favorite_lucky_shoe using\nfavorite_lucky_shoe = favorite_song + shoe_size + lucky_number\n\nprint(\"For singing \"+ favorite_song +\" \"+ shoe_size+\" times , you will be fined $\"+lucky_number)",
      "execution_count": 25,
      "outputs": [
        {
          "output_type": "stream",
          "text": "For singing Kaise batayein ke tujhko chahein(APKGK) 9 times , you will be fined $4\n",
          "name": "stdout"
        }
      ]
    },
    {
      "metadata": {},
      "cell_type": "markdown",
      "source": "### print() art"
    },
    {
      "metadata": {},
      "cell_type": "markdown",
      "source": "#### use `print()` and the asterisk **\\*** to create the following shapes\n- [ ] diagonal line  \n- [ ] rectangle  \n- [ ] smiley face"
    },
    {
      "metadata": {
        "trusted": false
      },
      "cell_type": "code",
      "source": "# [ ] print a diagonal using \"*\"\n\n\n# [ ] rectangle using \"*\"\n\n\n# [ ] smiley using \"*\"\n\n\n",
      "execution_count": null,
      "outputs": []
    },
    {
      "metadata": {},
      "cell_type": "markdown",
      "source": "#### Using `type()`\n-**[ ]** calulate the *type* using `type()`"
    },
    {
      "metadata": {
        "trusted": true
      },
      "cell_type": "code",
      "source": "# [ ] display the type of 'your name' (use single quotes)\ntype('Mohammed Jaffer')\n\n",
      "execution_count": 27,
      "outputs": [
        {
          "output_type": "execute_result",
          "execution_count": 27,
          "data": {
            "text/plain": "str"
          },
          "metadata": {}
        }
      ]
    },
    {
      "metadata": {
        "trusted": true
      },
      "cell_type": "code",
      "source": "# [ ] display the type of \"save your notebook!\" (use double quotes)\ntype(\"save your notebook!\")\n\n",
      "execution_count": 29,
      "outputs": [
        {
          "output_type": "execute_result",
          "execution_count": 29,
          "data": {
            "text/plain": "str"
          },
          "metadata": {}
        }
      ]
    },
    {
      "metadata": {
        "trusted": true
      },
      "cell_type": "code",
      "source": "# [ ] display the type of \"25\" (use quotes)\n\ntype(\"25\")\n",
      "execution_count": 30,
      "outputs": [
        {
          "output_type": "execute_result",
          "execution_count": 30,
          "data": {
            "text/plain": "str"
          },
          "metadata": {}
        }
      ]
    },
    {
      "metadata": {
        "trusted": true
      },
      "cell_type": "code",
      "source": "# [ ] display the type of \"save your notebook \" + 'your name'\ntype(\"save your notebook \" + 'your name')\n\n",
      "execution_count": 31,
      "outputs": [
        {
          "output_type": "execute_result",
          "execution_count": 31,
          "data": {
            "text/plain": "str"
          },
          "metadata": {}
        }
      ]
    },
    {
      "metadata": {
        "trusted": true
      },
      "cell_type": "code",
      "source": "# [ ] display the type of 25 (no quotes)\ntype(25)\n\n",
      "execution_count": 32,
      "outputs": [
        {
          "output_type": "execute_result",
          "execution_count": 32,
          "data": {
            "text/plain": "int"
          },
          "metadata": {}
        }
      ]
    },
    {
      "metadata": {
        "trusted": true
      },
      "cell_type": "code",
      "source": "# [ ] display the type of 25 + 10 \n\ntype(25+10)\n",
      "execution_count": 33,
      "outputs": [
        {
          "output_type": "execute_result",
          "execution_count": 33,
          "data": {
            "text/plain": "int"
          },
          "metadata": {}
        }
      ]
    },
    {
      "metadata": {
        "trusted": true
      },
      "cell_type": "code",
      "source": "# [ ] display the type of 1.55\ntype(1.55)\n\n",
      "execution_count": 34,
      "outputs": [
        {
          "output_type": "execute_result",
          "execution_count": 34,
          "data": {
            "text/plain": "float"
          },
          "metadata": {}
        }
      ]
    },
    {
      "metadata": {
        "trusted": true
      },
      "cell_type": "code",
      "source": "# [ ] display the type of 1.55 + 25\ntype(1.55+25)\n\n",
      "execution_count": 35,
      "outputs": [
        {
          "output_type": "execute_result",
          "execution_count": 35,
          "data": {
            "text/plain": "float"
          },
          "metadata": {}
        }
      ]
    },
    {
      "metadata": {},
      "cell_type": "markdown",
      "source": "#### Find the type of variables\n- **[ ]** run the cell below to make the variables available to be used in other code\n- **[ ]** display the data type as directed in the cells that follow"
    },
    {
      "metadata": {
        "trusted": true
      },
      "cell_type": "code",
      "source": "# assignments ***RUN THIS CELL*** before starting the section\n\nstudent_name = \"Gus\"\nstudent_age = 16\nstudent_grade = 3.5\nstudent_id = \"ABC-000-000\"\n",
      "execution_count": 37,
      "outputs": []
    },
    {
      "metadata": {
        "trusted": true
      },
      "cell_type": "code",
      "source": "# [ ] display the current type of the variable student_name\ntype(student_name)\n\n",
      "execution_count": 38,
      "outputs": [
        {
          "output_type": "execute_result",
          "execution_count": 38,
          "data": {
            "text/plain": "str"
          },
          "metadata": {}
        }
      ]
    },
    {
      "metadata": {
        "trusted": true
      },
      "cell_type": "code",
      "source": "# [ ] display the type of student_age\ntype(student_age)\n\n",
      "execution_count": 39,
      "outputs": [
        {
          "output_type": "execute_result",
          "execution_count": 39,
          "data": {
            "text/plain": "int"
          },
          "metadata": {}
        }
      ]
    },
    {
      "metadata": {
        "trusted": true
      },
      "cell_type": "code",
      "source": "# [ ] display the type of student_grade\ntype(student_grade)\n\n",
      "execution_count": 40,
      "outputs": [
        {
          "output_type": "execute_result",
          "execution_count": 40,
          "data": {
            "text/plain": "float"
          },
          "metadata": {}
        }
      ]
    },
    {
      "metadata": {
        "trusted": true
      },
      "cell_type": "code",
      "source": "# [ ] display the type of student_age + student_grade\ntype(student_age + student_grade)\n\n",
      "execution_count": 41,
      "outputs": [
        {
          "output_type": "execute_result",
          "execution_count": 41,
          "data": {
            "text/plain": "float"
          },
          "metadata": {}
        }
      ]
    },
    {
      "metadata": {
        "trusted": true
      },
      "cell_type": "code",
      "source": "# [ ] display the current type of student_id\nstudent_id\n\n",
      "execution_count": 42,
      "outputs": [
        {
          "output_type": "execute_result",
          "execution_count": 42,
          "data": {
            "text/plain": "'ABC-000-000'"
          },
          "metadata": {}
        }
      ]
    },
    {
      "metadata": {
        "trusted": true
      },
      "cell_type": "code",
      "source": "# assign new value to student_id \n\nstudent_id = \"EFG-000-111\"\n# [ ] display the current of student_id\nstudent_id\n\n",
      "execution_count": 43,
      "outputs": [
        {
          "output_type": "execute_result",
          "execution_count": 43,
          "data": {
            "text/plain": "'EFG-000-111'"
          },
          "metadata": {}
        }
      ]
    },
    {
      "metadata": {
        "collapsed": true
      },
      "cell_type": "markdown",
      "source": "#### number integer addition\n\n- **[ ]** create variables (x, y, z) with integer values"
    },
    {
      "metadata": {
        "trusted": true
      },
      "cell_type": "code",
      "source": "# [ ] create integer variables (x, y, z) and assign them 1-3 digit integers (no decimals - no quotes)\nx = 1\ny = 2\nz = 3",
      "execution_count": 20,
      "outputs": []
    },
    {
      "metadata": {},
      "cell_type": "markdown",
      "source": "- **[ ]** insert a **code cell** below\n- **[ ]** create an integer variable named **xyz_sum** equal to the sum of x, y, and z\n- **[ ]** print the value of **xyz_sum** "
    },
    {
      "metadata": {
        "trusted": true
      },
      "cell_type": "code",
      "source": "xyz_sum = x+y+z\nprint(xyz_sum)",
      "execution_count": 21,
      "outputs": [
        {
          "output_type": "stream",
          "text": "6\n",
          "name": "stdout"
        }
      ]
    },
    {
      "metadata": {},
      "cell_type": "markdown",
      "source": "### Errors\n- **[ ]** troubleshoot and fix the errors below"
    },
    {
      "metadata": {
        "trusted": true
      },
      "cell_type": "code",
      "source": "# [ ] fix the error \n\n#print(\"Hello World!\"\")    \n\nprint(\"Hello World!\")    \n",
      "execution_count": 18,
      "outputs": [
        {
          "output_type": "stream",
          "text": "Hello World!\n",
          "name": "stdout"
        }
      ]
    },
    {
      "metadata": {
        "trusted": true
      },
      "cell_type": "code",
      "source": "# [ ] fix the error \n#print(strings have quotes and variables have names)\nprint(\"strings have quotes and variables have names\")\n",
      "execution_count": 17,
      "outputs": [
        {
          "output_type": "stream",
          "text": "strings have quotes and variables have names\n",
          "name": "stdout"
        }
      ]
    },
    {
      "metadata": {
        "trusted": true
      },
      "cell_type": "code",
      "source": "# [ ] fix the error \n#print( \"I have $\" + 5)\nprint( \"I have $\" + str(5))\n",
      "execution_count": 16,
      "outputs": [
        {
          "output_type": "stream",
          "text": "I have $5\n",
          "name": "stdout"
        }
      ]
    },
    {
      "metadata": {
        "trusted": true
      },
      "cell_type": "code",
      "source": "# [ ] fix the error \n#print('always save the notebook\")\nprint(\"always save the notebook\")      \n",
      "execution_count": 15,
      "outputs": [
        {
          "output_type": "stream",
          "text": "always save the notebook\n",
          "name": "stdout"
        }
      ]
    },
    {
      "metadata": {
        "collapsed": true
      },
      "cell_type": "markdown",
      "source": "## ASCII art\n- **[ ]** Display first name or initials as ASCII Art\n- **[ ]** Challenge: insert an additional code cell to make an ASCII picture"
    },
    {
      "metadata": {
        "trusted": false
      },
      "cell_type": "code",
      "source": "# [ ] ASCII ART\n\n\n",
      "execution_count": null,
      "outputs": []
    },
    {
      "metadata": {
        "trusted": false
      },
      "cell_type": "code",
      "source": "# [ ] ASCII ART\n\n",
      "execution_count": null,
      "outputs": []
    },
    {
      "metadata": {},
      "cell_type": "markdown",
      "source": "[Terms of use](http://go.microsoft.com/fwlink/?LinkID=206977) &nbsp; [Privacy & cookies](https://go.microsoft.com/fwlink/?LinkId=521839) &nbsp; © 2017 Microsoft"
    }
  ],
  "metadata": {
    "anaconda-cloud": {},
    "kernelspec": {
      "name": "python3",
      "display_name": "Python 3",
      "language": "python"
    },
    "language_info": {
      "mimetype": "text/x-python",
      "nbconvert_exporter": "python",
      "name": "python",
      "file_extension": ".py",
      "version": "3.5.4",
      "pygments_lexer": "ipython3",
      "codemirror_mode": {
        "version": 3,
        "name": "ipython"
      }
    }
  },
  "nbformat": 4,
  "nbformat_minor": 1
}