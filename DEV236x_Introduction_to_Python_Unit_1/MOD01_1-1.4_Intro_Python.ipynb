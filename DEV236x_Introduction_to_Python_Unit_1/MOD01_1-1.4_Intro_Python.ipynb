{
  "cells": [
    {
      "metadata": {
        "slideshow": {
          "slide_type": "slide"
        }
      },
      "cell_type": "markdown",
      "source": "# 1-1.4 Intro Python\n##  Getting started with Python in Jupyter Notebooks\n- Python 3 in Jupyter notebooks\n- `print()`\n- comments  \n- data types basics\n- variables  \n- **Addition with Strings and Integers**\n- **Errors**  \n- character art  \n\n-----\n\n\n><font size=\"5\" color=\"#00A0B2\"  face=\"verdana\"> <B>Student will be able to</B></font>\n- use Python 3 in Jupyter notebooks\n- write working code using `print()` and `#` comments  \n- write working code using `type()` and variables\n- combine Strings using string addition (+)\n- **add numbers in code (+)**  \n- **troubleshoot errors**  \n- create character art"
    },
    {
      "metadata": {},
      "cell_type": "markdown",
      "source": "# &nbsp;\n<font size=\"6\" color=\"#00A0B2\"  face=\"verdana\"> <B>Concepts</B></font>\n## Addition: Numbers and Strings  \n\n[![view video](https://iajupyterprodblobs.blob.core.windows.net/imagecontainer/common/play_video.png)]( http://edxinteractivepage.blob.core.windows.net/edxpages/f7cff1a7-5601-48a1-95a6-fd1fdfabd20e.html?details=[{\"src\":\"http://jupyternootbookwams.streaming.mediaservices.windows.net/a8befa5f-b4a5-4081-87c0-8846be85c719/Unit1_Section1.4-Addition.ism/manifest\",\"type\":\"application/vnd.ms-sstr+xml\"}],[{\"src\":\"http://jupyternootbookwams.streaming.mediaservices.windows.net/a8befa5f-b4a5-4081-87c0-8846be85c719/Unit1_Section1.4-Addition.vtt\",\"srclang\":\"en\",\"kind\":\"subtitles\",\"label\":\"english\"}])\n\n### Numeric addition\n**Numeric addition** Single line *math equations*, run in a code cell, will output a sum \n```python\n# adding a pair of single digit Integers\n3 + 5  \n```  \n## String addition\n**string addition** single line *equations*, run in a code cell, will output a single concatenated string  \n> **Tip:** all strings must be in quotes  \n    \n```python\n# adding a pair of strings\n\"I wear \" + \"a hat\"  \n```  \nWe can also **add variables** as long as we add strings to strings and numbers to numbers"
    },
    {
      "metadata": {},
      "cell_type": "markdown",
      "source": "# &nbsp;\n<font size=\"6\" color=\"#00A0B2\"  face=\"verdana\"> <B>Examples</B></font>\n## String and Number Addition"
    },
    {
      "metadata": {
        "trusted": true
      },
      "cell_type": "code",
      "source": "# [ ] Review and run code for adding a pair of 2 digit Integers\n23 + 18",
      "execution_count": 1,
      "outputs": [
        {
          "output_type": "execute_result",
          "execution_count": 1,
          "data": {
            "text/plain": "41"
          },
          "metadata": {}
        }
      ]
    },
    {
      "metadata": {
        "trusted": true
      },
      "cell_type": "code",
      "source": "# [ ] Review and run code for adding 2 strings\n\"my name is \" + \"Alyssa\"  ",
      "execution_count": 2,
      "outputs": [
        {
          "output_type": "execute_result",
          "execution_count": 2,
          "data": {
            "text/plain": "'my name is Alyssa'"
          },
          "metadata": {}
        }
      ]
    },
    {
      "metadata": {
        "trusted": true
      },
      "cell_type": "code",
      "source": "# [ ] Review and run code for adding a variable string and a literal string\nshoe_color = \"brown\"\n\"my shoe color is \" + shoe_color",
      "execution_count": 3,
      "outputs": [
        {
          "output_type": "execute_result",
          "execution_count": 3,
          "data": {
            "text/plain": "'my shoe color is brown'"
          },
          "metadata": {}
        }
      ]
    },
    {
      "metadata": {},
      "cell_type": "markdown",
      "source": "# &nbsp;\n<font size=\"6\" color=\"#B24C00\"  face=\"verdana\"> <B>Task 1: multi-part</B></font>\n## String and Number Addition"
    },
    {
      "metadata": {
        "trusted": true
      },
      "cell_type": "code",
      "source": "# [ ] add 3 integer numbers\n1+2+3\n",
      "execution_count": 4,
      "outputs": [
        {
          "output_type": "execute_result",
          "execution_count": 4,
          "data": {
            "text/plain": "6"
          },
          "metadata": {}
        }
      ]
    },
    {
      "metadata": {
        "trusted": true
      },
      "cell_type": "code",
      "source": "# [ ] add a float number and an integer number\n1.2+2\n",
      "execution_count": 5,
      "outputs": [
        {
          "output_type": "execute_result",
          "execution_count": 5,
          "data": {
            "text/plain": "3.2"
          },
          "metadata": {}
        }
      ]
    },
    {
      "metadata": {
        "trusted": true
      },
      "cell_type": "code",
      "source": "# [ ] Add the string \"This notebook belongs to \" and a string with your first name\n\"This notebook belongs to \" + \"Mohammed Jaffer\"\n",
      "execution_count": 6,
      "outputs": [
        {
          "output_type": "execute_result",
          "execution_count": 6,
          "data": {
            "text/plain": "'This notebook belongs to Mohammed Jaffer'"
          },
          "metadata": {}
        }
      ]
    },
    {
      "metadata": {
        "trusted": true
      },
      "cell_type": "code",
      "source": "# [ ] Create variables sm_number and big_number and assign numbers then add the numbers\nsm_number = 5\nbig_number = 50\nsm_number + big_number\n",
      "execution_count": 7,
      "outputs": [
        {
          "output_type": "execute_result",
          "execution_count": 7,
          "data": {
            "text/plain": "55"
          },
          "metadata": {}
        }
      ]
    },
    {
      "metadata": {
        "trusted": true
      },
      "cell_type": "code",
      "source": "# [ ] assign a string value to the variable first_name and add to the string \", remember to save the notebook frequently\"\nfirst_name = \"Mohammed\"\nfirst_name + \", remember to save the notebook frequently\"\n",
      "execution_count": 8,
      "outputs": [
        {
          "output_type": "execute_result",
          "execution_count": 8,
          "data": {
            "text/plain": "'Mohammed, remember to save the notebook frequently'"
          },
          "metadata": {}
        }
      ]
    },
    {
      "metadata": {},
      "cell_type": "markdown",
      "source": "# &nbsp;\n<font size=\"6\" color=\"#00A0B2\"  face=\"verdana\"> <B>Concepts</B></font>  \n## use addition in variable assignments  \nIt is common to store the results of addition in a variable  \n\n[![view video](https://iajupyterprodblobs.blob.core.windows.net/imagecontainer/common/play_video.png)]( http://edxinteractivepage.blob.core.windows.net/edxpages/f7cff1a7-5601-48a1-95a6-fd1fdfabd20e.html?details=[{\"src\":\"http://jupyternootbookwams.streaming.mediaservices.windows.net/48aefdf7-8f2f-4080-97e9-c25477f71248/Unit1_Section1.4-Assignment.ism/manifest\",\"type\":\"application/vnd.ms-sstr+xml\"}],[{\"src\":\"http://jupyternootbookwams.streaming.mediaservices.windows.net/48aefdf7-8f2f-4080-97e9-c25477f71248/Unit1_Section1.4-Assignment.vtt\",\"srclang\":\"en\",\"kind\":\"subtitles\",\"label\":\"english\"}])\n\n## use addition in `print ()`   \nUse **`print()`** to show the results of multiple lines of output  \n "
    },
    {
      "metadata": {},
      "cell_type": "markdown",
      "source": "<font size=\"6\" color=\"#00A0B2\"  face=\"verdana\"> <B>Examples</B></font>\n## addition in variable assignments and in `print()`"
    },
    {
      "metadata": {
        "trusted": true
      },
      "cell_type": "code",
      "source": "# [ ] review & run code for assigning variables & using addition\nadd_two = 34 + 16\nfirst_name = \"Alton\"\ngreeting = \"Happy Birthday \" + first_name\n\nprint(add_two)\nprint(greeting)",
      "execution_count": 9,
      "outputs": [
        {
          "output_type": "stream",
          "text": "50\nHappy Birthday Alton\n",
          "name": "stdout"
        }
      ]
    },
    {
      "metadata": {
        "trusted": true
      },
      "cell_type": "code",
      "source": "#  [ ] review & run code for Integer addition in variables and in a print function\nint_sum = 6 + 7\nprint(int_sum)\nprint(11 + 15)\nprint()",
      "execution_count": 10,
      "outputs": [
        {
          "output_type": "stream",
          "text": "13\n26\n\n",
          "name": "stdout"
        }
      ]
    },
    {
      "metadata": {
        "trusted": true
      },
      "cell_type": "code",
      "source": "# string addition in variables and in print()function\nhat_msg = \"I do not wear \" + \"a hat\"  \nprint(hat_msg)\nprint(\"at \" + \"dinner\")",
      "execution_count": 11,
      "outputs": [
        {
          "output_type": "stream",
          "text": "I do not wear a hat\nat dinner\n",
          "name": "stdout"
        }
      ]
    },
    {
      "metadata": {},
      "cell_type": "markdown",
      "source": "# &nbsp;\n<font size=\"6\" color=\"#B24C00\"  face=\"verdana\"> <B>Task 2: multi-part</B></font>\n## create Integer addition and  string addition output"
    },
    {
      "metadata": {
        "trusted": true
      },
      "cell_type": "code",
      "source": "# [ ] perform string addition in the variable named new_msg (add a string to \"my favorite food is \")\nnew_msg = \"My favorite food is\" + \" Tandoori Chicken\"\nprint(new_msg)\n\n",
      "execution_count": 14,
      "outputs": [
        {
          "output_type": "stream",
          "text": "My favorite food is Tandoori Chicken\n",
          "name": "stdout"
        }
      ]
    },
    {
      "metadata": {
        "trusted": true
      },
      "cell_type": "code",
      "source": "# [ ] perform Integer addition in the variable named new_msg (add 2 or more Integers)\nnew_sum =   0 + 5 + 10\nprint(new_sum)\n\n\n",
      "execution_count": 15,
      "outputs": [
        {
          "output_type": "stream",
          "text": "15\n",
          "name": "stdout"
        }
      ]
    },
    {
      "metadata": {
        "trusted": true
      },
      "cell_type": "code",
      "source": "# [ ] create and print a new string variable, new_msg_2, that concatenates new_msg + a literal string\nnew_msg_2 = new_msg + \". I Love Chicken.\"\nprint(new_msg_2)",
      "execution_count": 17,
      "outputs": [
        {
          "output_type": "stream",
          "text": "My favorite food is Tandoori Chicken. I Love Chicken.\n",
          "name": "stdout"
        }
      ]
    },
    {
      "metadata": {},
      "cell_type": "markdown",
      "source": "# &nbsp;\n<font size=\"6\" color=\"#00A0B2\"  face=\"verdana\"> <B>Concepts</B></font>  \n## Errors!\nEncountering **Errors** and troubleshooting errors are fundamental parts of computer programming\n\n[![view video](https://iajupyterprodblobs.blob.core.windows.net/imagecontainer/common/play_video.png)]( http://edxinteractivepage.blob.core.windows.net/edxpages/f7cff1a7-5601-48a1-95a6-fd1fdfabd20e.html?details=[{\"src\":\"http://jupyternootbookwams.streaming.mediaservices.windows.net/7ab2739a-95e6-4399-9b84-19ac5698bbea/Unit1_Section1.4-TypeError.ism/manifest\",\"type\":\"application/vnd.ms-sstr+xml\"}],[{\"src\":\"http://jupyternootbookwams.streaming.mediaservices.windows.net/7ab2739a-95e6-4399-9b84-19ac5698bbea/Unit1_Section1.4-TypeError.vtt\",\"srclang\":\"en\",\"kind\":\"subtitles\",\"label\":\"english\"}])"
    },
    {
      "metadata": {},
      "cell_type": "markdown",
      "source": "<font size=\"6\" color=\"#00A0B2\"  face=\"verdana\"> <B>Examples</B></font>"
    },
    {
      "metadata": {
        "trusted": true
      },
      "cell_type": "code",
      "source": "# [ ] review & run code\nprint(\"my number is \" + \"123\") #string, represents a text character\nprint(\"my number is \" + 123) #number, with numeric value ",
      "execution_count": 18,
      "outputs": [
        {
          "output_type": "stream",
          "text": "my number is 123\n",
          "name": "stdout"
        },
        {
          "output_type": "error",
          "ename": "TypeError",
          "evalue": "Can't convert 'int' object to str implicitly",
          "traceback": [
            "\u001b[0;31m---------------------------------------------------------------------------\u001b[0m",
            "\u001b[0;31mTypeError\u001b[0m                                 Traceback (most recent call last)",
            "\u001b[0;32m<ipython-input-18-abb36733d93f>\u001b[0m in \u001b[0;36m<module>\u001b[0;34m()\u001b[0m\n\u001b[1;32m      1\u001b[0m \u001b[0;31m# [ ] review & run code\u001b[0m\u001b[0;34m\u001b[0m\u001b[0;34m\u001b[0m\u001b[0m\n\u001b[1;32m      2\u001b[0m \u001b[0mprint\u001b[0m\u001b[0;34m(\u001b[0m\u001b[0;34m\"my number is \"\u001b[0m \u001b[0;34m+\u001b[0m \u001b[0;34m\"123\"\u001b[0m\u001b[0;34m)\u001b[0m \u001b[0;31m#string, represents a text character\u001b[0m\u001b[0;34m\u001b[0m\u001b[0m\n\u001b[0;32m----> 3\u001b[0;31m \u001b[0mprint\u001b[0m\u001b[0;34m(\u001b[0m\u001b[0;34m\"my number is \"\u001b[0m \u001b[0;34m+\u001b[0m \u001b[0;36m123\u001b[0m\u001b[0;34m)\u001b[0m \u001b[0;31m#number, with numeric value\u001b[0m\u001b[0;34m\u001b[0m\u001b[0m\n\u001b[0m",
            "\u001b[0;31mTypeError\u001b[0m: Can't convert 'int' object to str implicitly"
          ]
        }
      ]
    },
    {
      "metadata": {},
      "cell_type": "markdown",
      "source": "#### TypeError\nThe line&nbsp; **`print(\"my number is \" + 123)`** causes the **`TypeError`** message to appear  \n>`TypeError: Can't convert 'int' object to str implicitly`  \n\nWhen adding to the string&nbsp; `\"my number is \"`&nbsp; the compiler is experiencing another string, but finds a number ***`123`**  \n\nPython cannot convert the Integer &nbsp; `123`&nbsp; to a string without explicit instruction (in code) \n  \nin other words, python only allows combining *like types*\n- **`str`** + **`str`**\n- **`int`** + **`int`**\n"
    },
    {
      "metadata": {},
      "cell_type": "markdown",
      "source": "# &nbsp;\n<font size=\"6\" color=\"#B24C00\"  face=\"verdana\"> <B>Task 3</B></font>\n## Fix `TypeError` \n- Review the code in the cells below and then run the code\n- Fix any errors and run until the code no longer shows errors"
    },
    {
      "metadata": {
        "trusted": true
      },
      "cell_type": "code",
      "source": "# [ ] review and run the code - then fix any Errors\n#total_cost = 3 + \"45\"\ntotal_cost = 3 + 45\nprint(total_cost)\n\n",
      "execution_count": 21,
      "outputs": [
        {
          "output_type": "stream",
          "text": "48\n",
          "name": "stdout"
        }
      ]
    },
    {
      "metadata": {
        "trusted": true
      },
      "cell_type": "code",
      "source": "# [ ] review and run the code - then fix any Errors\nschool_num = 123\n#print(\"the street number of Central School is \" + school_num)\nprint(\"the street number of Central School is \" + str(school_num))\n",
      "execution_count": 22,
      "outputs": [
        {
          "output_type": "stream",
          "text": "the street number of Central School is 123\n",
          "name": "stdout"
        }
      ]
    },
    {
      "metadata": {
        "trusted": true
      },
      "cell_type": "code",
      "source": "# [ ] Read and run the code - write a hypothesis for what you observe adding float + int\n#  [ ] HYPOTHESIS: \n\nprint(type(3.3))\nprint(type(3))\nprint(3.3 + 3)\n\n# float + int = float",
      "execution_count": 24,
      "outputs": [
        {
          "output_type": "stream",
          "text": "<class 'float'>\n<class 'int'>\n6.3\n",
          "name": "stdout"
        }
      ]
    },
    {
      "metadata": {},
      "cell_type": "markdown",
      "source": "# &nbsp;\n<font size=\"6\" color=\"#00A0B2\"  face=\"verdana\"> <B>Concepts</B></font> \n## More Errors\n### SyntaxError & NameError\n- **SyntaxError** - breaks code formatting rules of python\n- **NameError** - object is not defined (can't be found)  \n\nPython has a specific grammar that it follows that is referred to as **syntax**.  \nThe print function syntax rules for output of a single string include \n- parentheses **` ( ) `** containing a **string** follow **`print`** (SyntaxError)\n- strings have **matching quotation marks** (SyntaxError)\n- `print` is lowercase and correctly spelled (NameError)\n\nFailure to follow any of these rules results in a `SyntaxError` or `NameError` when the code is run  \n"
    },
    {
      "metadata": {},
      "cell_type": "markdown",
      "source": "<font size=\"6\" color=\"#00A0B2\"  face=\"verdana\"> <B>Examples</B></font>\n## SyntaxError\n[![view video](https://iajupyterprodblobs.blob.core.windows.net/imagecontainer/common/play_video.png)]( http://edxinteractivepage.blob.core.windows.net/edxpages/f7cff1a7-5601-48a1-95a6-fd1fdfabd20e.html?details=[{\"src\":\"http://jupyternootbookwams.streaming.mediaservices.windows.net/1a1cd6c0-793f-4bcb-a0a0-c9f95a302142/Unit1_Section1.4-SyntaxNameErrors.ism/manifest\",\"type\":\"application/vnd.ms-sstr+xml\"}],[{\"src\":\"http://jupyternootbookwams.streaming.mediaservices.windows.net/1a1cd6c0-793f-4bcb-a0a0-c9f95a302142/Unit1_Section1.4-SyntaxNameErrors.vtt\",\"srclang\":\"en\",\"kind\":\"subtitles\",\"label\":\"english\"}])\n- Improperly formatted string (quotes don't match) that results in a SyntaxError"
    },
    {
      "metadata": {
        "trusted": true
      },
      "cell_type": "code",
      "source": "# [ ] review and run the code for properly and improperly formatted print statement\nprint(\"Hi!\")\n## Improper format - non matching quotes\nprint('I like the morning\") ",
      "execution_count": 27,
      "outputs": [
        {
          "output_type": "error",
          "ename": "SyntaxError",
          "evalue": "EOL while scanning string literal (<ipython-input-27-a66cd24f8e8c>, line 4)",
          "traceback": [
            "\u001b[0;36m  File \u001b[0;32m\"<ipython-input-27-a66cd24f8e8c>\"\u001b[0;36m, line \u001b[0;32m4\u001b[0m\n\u001b[0;31m    print('I like the morning\")\u001b[0m\n\u001b[0m                                ^\u001b[0m\n\u001b[0;31mSyntaxError\u001b[0m\u001b[0;31m:\u001b[0m EOL while scanning string literal\n"
          ]
        }
      ]
    },
    {
      "metadata": {},
      "cell_type": "markdown",
      "source": "- note that the misspelling of \"`prin`\" below results in a NameError"
    },
    {
      "metadata": {
        "trusted": true
      },
      "cell_type": "code",
      "source": "# [ ] review and run the code \nprin('hi')",
      "execution_count": 28,
      "outputs": [
        {
          "output_type": "error",
          "ename": "NameError",
          "evalue": "name 'prin' is not defined",
          "traceback": [
            "\u001b[0;31m---------------------------------------------------------------------------\u001b[0m",
            "\u001b[0;31mNameError\u001b[0m                                 Traceback (most recent call last)",
            "\u001b[0;32m<ipython-input-28-0e857dd261de>\u001b[0m in \u001b[0;36m<module>\u001b[0;34m()\u001b[0m\n\u001b[1;32m      1\u001b[0m \u001b[0;31m# [ ] review and run the code\u001b[0m\u001b[0;34m\u001b[0m\u001b[0;34m\u001b[0m\u001b[0m\n\u001b[0;32m----> 2\u001b[0;31m \u001b[0mprin\u001b[0m\u001b[0;34m(\u001b[0m\u001b[0;34m'hi'\u001b[0m\u001b[0;34m)\u001b[0m\u001b[0;34m\u001b[0m\u001b[0m\n\u001b[0m",
            "\u001b[0;31mNameError\u001b[0m: name 'prin' is not defined"
          ]
        }
      ]
    },
    {
      "metadata": {},
      "cell_type": "markdown",
      "source": "- EOF = \"end of file\" found in code below\n- Python went to the end of the file looking for, but not finding, a closing parenthesis "
    },
    {
      "metadata": {
        "trusted": true
      },
      "cell_type": "code",
      "source": "# [ ] review and run the code missing the closing parenthesis  \nprint(\"where are my socks?\" ",
      "execution_count": 29,
      "outputs": [
        {
          "output_type": "error",
          "ename": "SyntaxError",
          "evalue": "unexpected EOF while parsing (<ipython-input-29-78db4cf76d16>, line 2)",
          "traceback": [
            "\u001b[0;36m  File \u001b[0;32m\"<ipython-input-29-78db4cf76d16>\"\u001b[0;36m, line \u001b[0;32m2\u001b[0m\n\u001b[0;31m    print(\"where are my socks?\"\u001b[0m\n\u001b[0m                                ^\u001b[0m\n\u001b[0;31mSyntaxError\u001b[0m\u001b[0;31m:\u001b[0m unexpected EOF while parsing\n"
          ]
        }
      ]
    },
    {
      "metadata": {},
      "cell_type": "markdown",
      "source": "- In code below: a parenthesis inside quotations will be seen a part of a string and not as a parenthesis"
    },
    {
      "metadata": {
        "trusted": true
      },
      "cell_type": "code",
      "source": "# { ] review and run the code \nprint(\"my socks are in the wrong bin)\" ",
      "execution_count": 30,
      "outputs": [
        {
          "output_type": "error",
          "ename": "SyntaxError",
          "evalue": "unexpected EOF while parsing (<ipython-input-30-3f301d8f653f>, line 2)",
          "traceback": [
            "\u001b[0;36m  File \u001b[0;32m\"<ipython-input-30-3f301d8f653f>\"\u001b[0;36m, line \u001b[0;32m2\u001b[0m\n\u001b[0;31m    print(\"my socks are in the wrong bin)\"\u001b[0m\n\u001b[0m                                           ^\u001b[0m\n\u001b[0;31mSyntaxError\u001b[0m\u001b[0;31m:\u001b[0m unexpected EOF while parsing\n"
          ]
        }
      ]
    },
    {
      "metadata": {},
      "cell_type": "markdown",
      "source": "# &nbsp;\n<font size=\"6\" color=\"#B24C00\"  face=\"verdana\"> <B>Task 4</B></font>\n## Fix Errors"
    },
    {
      "metadata": {},
      "cell_type": "markdown",
      "source": ">**Tip**: explaining errors to a partner often reveals a solution (works even if explaining error to a pencil) "
    },
    {
      "metadata": {
        "trusted": true
      },
      "cell_type": "code",
      "source": "# [ ] repair the syntax error \n#print('my socks do not match\") \nprint(\"my socks do not match\")       \n",
      "execution_count": 31,
      "outputs": [
        {
          "output_type": "stream",
          "text": "my socks do not match\n",
          "name": "stdout"
        }
      ]
    },
    {
      "metadata": {
        "trusted": true
      },
      "cell_type": "code",
      "source": "# [ ] repair the NameError  \n#pront(\"my socks match now\") \nprint(\"my socks match now\") \n",
      "execution_count": 32,
      "outputs": [
        {
          "output_type": "stream",
          "text": "my socks match now\n",
          "name": "stdout"
        }
      ]
    },
    {
      "metadata": {
        "trusted": true
      },
      "cell_type": "code",
      "source": "# [ ] repair the syntax error \n#print\"Save the notebook frequently\")\nprint(\"Save the notebook frequently\")\n",
      "execution_count": 33,
      "outputs": [
        {
          "output_type": "stream",
          "text": "Save the notebook frequently\n",
          "name": "stdout"
        }
      ]
    },
    {
      "metadata": {
        "trusted": true
      },
      "cell_type": "code",
      "source": "# [ ] repair the NameError \nstudent_name = \"Alton\"\n#print(STUDENT_NAME)\nprint(student_name)\n",
      "execution_count": 34,
      "outputs": [
        {
          "output_type": "stream",
          "text": "Alton\n",
          "name": "stdout"
        }
      ]
    },
    {
      "metadata": {
        "trusted": true
      },
      "cell_type": "code",
      "source": "# [ ] repair the TypeError\ntotal = 3\n#print(total + \" students are signed up for tutoring\")\nprint(str(total) + \" students are signed up for tutoring\")\n",
      "execution_count": 35,
      "outputs": [
        {
          "output_type": "stream",
          "text": "3 students are signed up for tutoring\n",
          "name": "stdout"
        }
      ]
    },
    {
      "metadata": {},
      "cell_type": "markdown",
      "source": "A parenthesis inside quotations will be seen a part of a string and not as a parenthesis"
    },
    {
      "metadata": {},
      "cell_type": "markdown",
      "source": "[Terms of use](http://go.microsoft.com/fwlink/?LinkID=206977) &nbsp; [Privacy & cookies](https://go.microsoft.com/fwlink/?LinkId=521839) &nbsp; © 2017 Microsoft"
    }
  ],
  "metadata": {
    "anaconda-cloud": {},
    "kernelspec": {
      "name": "python3",
      "display_name": "Python 3",
      "language": "python"
    },
    "language_info": {
      "mimetype": "text/x-python",
      "nbconvert_exporter": "python",
      "name": "python",
      "pygments_lexer": "ipython3",
      "version": "3.5.4",
      "file_extension": ".py",
      "codemirror_mode": {
        "version": 3,
        "name": "ipython"
      }
    }
  },
  "nbformat": 4,
  "nbformat_minor": 1
}