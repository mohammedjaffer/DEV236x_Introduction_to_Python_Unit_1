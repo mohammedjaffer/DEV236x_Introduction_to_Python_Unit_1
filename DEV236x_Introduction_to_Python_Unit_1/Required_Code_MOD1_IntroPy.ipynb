{
  "cells": [
    {
      "metadata": {
        "collapsed": true
      },
      "cell_type": "markdown",
      "source": "#  Module 1 Required Coding Activity  \nIntroduction to Python Unit 1\n\nThis is an activity from the Jupyter Notebook **`Practice_MOD01_1-2_IntroPy.ipynb`** which you may have already completed.\n\n> **NOTE:** This program requires print output and code syntax used in module 1\n\n| Some Assignment Requirements |  \n|:-------------------------------|  \n| **NOTE:** This program requires `print` output and using code syntax used in module 1 such as variable assignment, `input`, `in` keyword, `.lower()` or `.upper()` method  |  \n\n\n## Program: Allergy Check  \n\n1. **[ ]** get user **`input`** for categories of food eaten in the last 24 hours  \n save in a variable called **input_test**  \n *example input*\n [![01 02 practice Allergy-input](https://iajupyterprodblobs.blob.core.windows.net/imagecontainer/eaten_input.gif) ](https://1drv.ms/i/s!Am_KPRosgtaij65qzFD5CGvv95-ijg)\n&nbsp;  \n2. **[ ]** print **`True`** if \"dairy\" is in the **input_test** string  \n**[ ]** Test the code so far  \n&nbsp;\n3. **[ ]** modify the print statement to output similar to below  \n*example output*\n[![01 02 Allergy output](https://iajupyterprodblobs.blob.core.windows.net/imagecontainer/eaten_output.gif) ](https://1drv.ms/i/s!Am_KPRosgtaij65rET-wmlpCdMX7CQ)  \nTest the code so far trying input including the string \"dairy\" and without  \n&nbsp;  \n\n4. **[ ]** repeat the process checking the input for \"nuts\", **challenge** add \"Seafood\" and \"chocolate\"  \n**[ ]** Test your code  \n&nbsp;  \n  \n5. **[ ] challenge:** make your code work for input regardless of case, e.g. - print **`True`** for \"Nuts\", \"NuTs\", \"NUTS\" or \"nuts\"  \n"
    },
    {
      "metadata": {
        "trusted": true
      },
      "cell_type": "code",
      "source": "# Create Allergy check code\n# then PASTE THIS CODE into edX\n\n# [ ] get input for input_test variable\ninput_test = input(\"enter something eaten in last 24 hrs: \") \n\n# [ ] print \"True\" message if \"dairy\" is in the input or False message if not\nprint(\"It is\" ,'dairy' in input_test.lower(), 'that','\"' + input_test +'\" contains \"dairy\"' ) \n\n# [ ] print True message if \"nuts\" is in the input or False if not\nprint(\"It is\" ,'nuts' in input_test.lower(), 'that','\"' + input_test +'\" contains \"nuts\"' )\n\n# [ ] Challenge: Check if \"seafood\" is in the input - print message\nprint(\"It is\" ,'seafood' in input_test.lower(), 'that','\"' + input_test +'\" contains \"seafood\"' )\n\n# [ ] Challenge: Check if \"chocolate\" is in the input - print message\nprint(\"It is\" ,'chocolate' in input_test.lower(), 'that','\"' + input_test +'\" contains \"chocolate\"' )\n\n \n \n",
      "execution_count": 1,
      "outputs": [
        {
          "output_type": "stream",
          "name": "stdout",
          "text": "enter something eaten in last 24 hrs: seafood,dairy,nuts,and chocolate cake\nIt is True that \"seafood,dairy,nuts,and chocolate cake\" contains \"dairy\"\nIt is True that \"seafood,dairy,nuts,and chocolate cake\" contains \"nuts\"\nIt is True that \"seafood,dairy,nuts,and chocolate cake\" contains \"seafood\"\nIt is True that \"seafood,dairy,nuts,and chocolate cake\" contains \"chocolate\"\n"
        }
      ]
    },
    {
      "metadata": {},
      "cell_type": "markdown",
      "source": "### Need assignment tips and clarification? \nSee the video on the \"End of Module coding assignment > Module 1 Required Code Description\" course page on [edX](https://courses.edx.org/courses/course-v1:Microsoft+DEV236x+4T2017/course)  \n    \n\n# Important:  [How to submit the code in edX by pasting](https://courses.edx.org/courses/course-v1:Microsoft+DEV236x+1T2017/wiki/Microsoft.DEV236x.3T2018/paste-code-end-module-coding-assignments/)https://preview.edx.org/courses/course-v1:Microsoft+DEV236x+3T2018/wiki/Microsoft.DEV236x.1T2017/paste-code-end-module-coding-assignments/"
    },
    {
      "metadata": {},
      "cell_type": "markdown",
      "source": "[Terms of use](http://go.microsoft.com/fwlink/?LinkID=206977) &nbsp; [Privacy & cookies](https://go.microsoft.com/fwlink/?LinkId=521839) &nbsp; © 2017 Microsoft"
    }
  ],
  "metadata": {
    "kernelspec": {
      "name": "python3",
      "display_name": "Python 3",
      "language": "python"
    },
    "language_info": {
      "mimetype": "text/x-python",
      "nbconvert_exporter": "python",
      "name": "python",
      "file_extension": ".py",
      "version": "3.5.4",
      "pygments_lexer": "ipython3",
      "codemirror_mode": {
        "version": 3,
        "name": "ipython"
      }
    }
  },
  "nbformat": 4,
  "nbformat_minor": 1
}