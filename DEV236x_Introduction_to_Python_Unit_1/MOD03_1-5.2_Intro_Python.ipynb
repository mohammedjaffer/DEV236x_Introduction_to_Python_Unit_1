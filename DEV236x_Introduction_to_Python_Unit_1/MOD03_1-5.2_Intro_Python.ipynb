{
  "cells": [
    {
      "metadata": {},
      "cell_type": "markdown",
      "source": "# 1-5.2 Python Intro  \n## conditionals, type, and mathematics extended\n- conditionals: `elif`  \n- casting   \n- **basic math operators**  \n\n-----\n\n><font size=\"5\" color=\"#00A0B2\"  face=\"verdana\"> <B>Student will be able to</B></font>\n- code more than two choices using `elif`  \n- gather numeric input using type casting   \n- **perform subtraction, multiplication and division operations in code** \n"
    },
    {
      "metadata": {
        "collapsed": true
      },
      "cell_type": "markdown",
      "source": "# &nbsp;\n<font size=\"6\" color=\"#00A0B2\"  face=\"verdana\"> <B>Concepts</B></font>\n## Math basic operators\n### `+` addition\n### `-` subtraction\n### `*` multiplication\n### `/` division  \n[![view video](https://iajupyterprodblobs.blob.core.windows.net/imagecontainer/common/play_video.png)]( http://edxinteractivepage.blob.core.windows.net/edxpages/f7cff1a7-5601-48a1-95a6-fd1fdfabd20e.html?details=[{\"src\":\"http://jupyternootbookwams.streaming.mediaservices.windows.net/5bc97f7e-3015-4178-ac20-371a5302def1/Unit1_Section5.2-Math-operators.ism/manifest\",\"type\":\"application/vnd.ms-sstr+xml\"}],[{\"src\":\"http://jupyternootbookwams.streaming.mediaservices.windows.net/5bc97f7e-3015-4178-ac20-371a5302def1/Unit1_Section5.2-Math-operators.vtt\",\"srclang\":\"en\",\"kind\":\"subtitles\",\"label\":\"english\"}])"
    },
    {
      "metadata": {
        "collapsed": true
      },
      "cell_type": "markdown",
      "source": "# &nbsp;\n<font size=\"6\" color=\"#00A0B2\"  face=\"verdana\"> <B>Examples</B></font>"
    },
    {
      "metadata": {
        "trusted": true
      },
      "cell_type": "code",
      "source": "# [ ] review and run example\nprint(\"3 + 5 =\",3 + 5)\nprint(\"3 + 5 - 9 =\", 3 + 5 - 9)\nprint(\"48/9 =\", 48/9)\nprint(\"5*5 =\", 5*5)\nprint(\"(14 - 8)*(19/4) =\", (14 - 8)*(19/4))",
      "execution_count": 1,
      "outputs": [
        {
          "output_type": "stream",
          "text": "3 + 5 = 8\n3 + 5 - 9 = -1\n48/9 = 5.333333333333333\n5*5 = 25\n(14 - 8)*(19/4) = 28.5\n",
          "name": "stdout"
        }
      ]
    },
    {
      "metadata": {
        "trusted": true
      },
      "cell_type": "code",
      "source": "# [ ] review and run example - 'million_maker'\ndef million_maker():\n    make_big = input(\"enter a non-decimal number you wish were bigger: \")\n    return int(make_big)*1000000\n\nprint(\"Now you have\", million_maker())\n",
      "execution_count": 2,
      "outputs": [
        {
          "output_type": "stream",
          "name": "stdout",
          "text": "enter a non-decimal number you wish were bigger: 10\nNow you have 10000000\n"
        }
      ]
    },
    {
      "metadata": {},
      "cell_type": "markdown",
      "source": "# &nbsp;\n<font size=\"6\" color=\"#B24C00\"  face=\"verdana\"> <B>Task 1</B></font>\n## use math operators to solve the set of tasks below"
    },
    {
      "metadata": {
        "trusted": true
      },
      "cell_type": "code",
      "source": "# [ ] print the result of subtracting 15 from 43\nprint(\"43 - 15 =\",43 - 15)\n",
      "execution_count": 3,
      "outputs": [
        {
          "output_type": "stream",
          "text": "43 - 15 = 28\n",
          "name": "stdout"
        }
      ]
    },
    {
      "metadata": {
        "trusted": true
      },
      "cell_type": "code",
      "source": "# [ ] print the result of multiplying 15 and 43\nprint(\"43 x 15 =\",43 * 15)\n",
      "execution_count": 4,
      "outputs": [
        {
          "output_type": "stream",
          "text": "43 x 15 = 645\n",
          "name": "stdout"
        }
      ]
    },
    {
      "metadata": {
        "trusted": true
      },
      "cell_type": "code",
      "source": "# [ ] print the result of dividing 156 by 12\nprint(\"156 / 12 =\",156 / 12)\n",
      "execution_count": 5,
      "outputs": [
        {
          "output_type": "stream",
          "text": "156 / 12 = 13.0\n",
          "name": "stdout"
        }
      ]
    },
    {
      "metadata": {
        "trusted": true
      },
      "cell_type": "code",
      "source": "# [ ] print the result of dividing 21 by 0.5\nprint(\"21 / 0.5 =\",21 / 0.5)\n",
      "execution_count": 6,
      "outputs": [
        {
          "output_type": "stream",
          "text": "21 / 0.5 = 42.0\n",
          "name": "stdout"
        }
      ]
    },
    {
      "metadata": {
        "trusted": true
      },
      "cell_type": "code",
      "source": "# [ ] print the result of adding 111 plus 84 and then subtracting 45\nprint(\"111 + 84 - 45 =\",111 + 84 - 45)\n",
      "execution_count": 8,
      "outputs": [
        {
          "output_type": "stream",
          "text": "111 + 84 - 45 = 150\n",
          "name": "stdout"
        }
      ]
    },
    {
      "metadata": {
        "trusted": true
      },
      "cell_type": "code",
      "source": "# [ ] print the result of adding 21 and 4 and then multiplying that sum by 4\nprint(\"(21+4)*4 =\",(21+4)*4)\n",
      "execution_count": 9,
      "outputs": [
        {
          "output_type": "stream",
          "text": "(21+4)*4 = 100\n",
          "name": "stdout"
        }
      ]
    },
    {
      "metadata": {
        "collapsed": true
      },
      "cell_type": "markdown",
      "source": "# &nbsp;\n<font size=\"6\" color=\"#B24C00\"  face=\"verdana\"> <B>Task 2</B></font>\n## Program: Multiplying Calculator Function\n- define function **`multiply()`**, and within the function:\n  - gets user input() of 2 *strings* made of whole numbers\n  - cast the input to **`int()`**\n  - multiply the integers and **return** the equation with result as a **`str()`**\n    - **return** example \n     ```python\n     9 * 13 = 117\n     ```"
    },
    {
      "metadata": {
        "trusted": true
      },
      "cell_type": "code",
      "source": "# [ ] create and test multiply() function\ndef multiply():\n    return num1 * num2\nnum1 = int(input(\"enter an integer to multiply: \"))\nnum2 = int(input(\"enter an integer to multiply: \"))\nprint(str(multiply()))",
      "execution_count": 16,
      "outputs": [
        {
          "output_type": "stream",
          "name": "stdout",
          "text": "enter an integer to multiply: 5\nenter an integer to multiply: 2\n10\n"
        }
      ]
    },
    {
      "metadata": {
        "collapsed": true
      },
      "cell_type": "markdown",
      "source": "# &nbsp;\n<font size=\"6\" color=\"#B24C00\"  face=\"verdana\"> <B>Task 3</B></font>\n## Project: Improved Multiplying Calculator Function\n### putting together conditionals, input casting and math\n- #### update the multiply() function to multiply or divide \n  - single parameter is **`operator`** with arguments of **`*`** or **`/`** operator\n  - default operator is \"*\" (multiply)\n  - **return** the result of multiplication or division\n  - if operator other than **`\"*\"`** or **`\"/\"`**  then **` return \"Invalid Operator\"`**"
    },
    {
      "metadata": {
        "trusted": true
      },
      "cell_type": "code",
      "source": "# [ ] create improved multiply() function and test with /, no argument, and an invalid operator ($)\ndef multiply(operator):    \n    if operator == '/':\n        return num1 / num2\n    else:\n        return num1 * num2\n    return \"Invalid Operator\"\noperator = input(\"choose the operator '*' or '/' : \")    \nnum1 = int(input(\"enter an integer to multiply: \"))\nnum2 = int(input(\"enter an integer to multiply: \"))\nprint(str(multiply(operator)))\n\n",
      "execution_count": 15,
      "outputs": [
        {
          "output_type": "stream",
          "name": "stdout",
          "text": "choose the operator '*' or '/' : /\nenter an integer to multiply: 20\nenter an integer to multiply: 4\n5.0\n"
        }
      ]
    },
    {
      "metadata": {},
      "cell_type": "markdown",
      "source": "# &nbsp;\n<font size=\"6\" color=\"#B24C00\"  face=\"verdana\"> <B>Task 4</B></font>\n## Fix the Errors"
    },
    {
      "metadata": {
        "trusted": true
      },
      "cell_type": "code",
      "source": "# Review, run, fix \nstudent_name = input(\"enter name: \").capitalize()\nif student_name.startswith(\"F\"):\n    print(student_name,\"Congratulations, names starting with 'F' get to go first today!\")\nelif student_name.startswith(\"G\"):\n    print(student_name,\"Congratulations, names starting with 'G' get to go second today!\")\nelse:\n    print(student_name, \"please wait for students with names staring with 'F' and 'G' to go first today.\")\n\n",
      "execution_count": 17,
      "outputs": [
        {
          "output_type": "stream",
          "name": "stdout",
          "text": "enter name: Mohammed\nMohammed please wait for students with names staring with 'F' and 'G' to go first today.\n"
        }
      ]
    },
    {
      "metadata": {
        "collapsed": true
      },
      "cell_type": "markdown",
      "source": "[Terms of use](http://go.microsoft.com/fwlink/?LinkID=206977) &nbsp; [Privacy & cookies](https://go.microsoft.com/fwlink/?LinkId=521839) &nbsp; © 2017 Microsoft"
    }
  ],
  "metadata": {
    "anaconda-cloud": {},
    "kernelspec": {
      "name": "python3",
      "display_name": "Python 3",
      "language": "python"
    },
    "language_info": {
      "mimetype": "text/x-python",
      "nbconvert_exporter": "python",
      "name": "python",
      "pygments_lexer": "ipython3",
      "version": "3.5.4",
      "file_extension": ".py",
      "codemirror_mode": {
        "version": 3,
        "name": "ipython"
      }
    }
  },
  "nbformat": 4,
  "nbformat_minor": 1
}