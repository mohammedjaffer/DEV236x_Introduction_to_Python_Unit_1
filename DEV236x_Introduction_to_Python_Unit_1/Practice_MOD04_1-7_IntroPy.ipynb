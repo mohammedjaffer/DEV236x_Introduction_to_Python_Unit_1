{
  "cells": [
    {
      "metadata": {},
      "cell_type": "markdown",
      "source": "# 1-7.2 Intro Python Practice\n## `while()` loops & increments\n<font size=\"5\" color=\"#00A0B2\"  face=\"verdana\"> <B>Student will be able to</B></font>\n- create forever loops using `while` and `break`\n- use incrementing variables in a while loop\n- control while loops using Boolean operators"
    },
    {
      "metadata": {
        "trusted": true
      },
      "cell_type": "code",
      "source": "# [ ] use a \"forever\" while loop to get user input of integers to add to sum, \n# until a non-digit is entered, then break the loop and print sum\nsum = 0\nwhile True:\n    num = input(\"enter the number to add: \")\n    if num.isdigit():\n        sum += int(num)\n    else:\n        break\nprint(sum)",
      "execution_count": 8,
      "outputs": [
        {
          "output_type": "stream",
          "name": "stdout",
          "text": "enter the number to add: 1\nenter the number to add: 25\nenter the number to add: s\n26\n"
        }
      ]
    },
    {
      "metadata": {
        "trusted": true
      },
      "cell_type": "code",
      "source": "# [ ] use a while True loop (forever loop) to give 4 chances for input of a correct color in a rainbow\n# rainbow = \"red orange yellow green blue indigo violet\"\nrainbow = \"red orange yellow green blue indigo violet\"\ncolor = input(\"enter any one color of rainbow: \")\ncount = 1\nwhile True:\n    if color in rainbow:\n        print(\"correct\")\n        break\n    else:\n        count += 1 \n        if count > 4:\n            break\n        color = input(\"enter any one color of rainbow: \")\nprint(\"sorry, out of chances\")        \n    \n",
      "execution_count": 4,
      "outputs": [
        {
          "output_type": "stream",
          "name": "stdout",
          "text": "enter any one color of rainbow: white\nenter any one color of rainbow: black\nenter any one color of rainbow: grey\nenter any one color of rainbow: brown\nsorry, out of chances\n"
        }
      ]
    },
    {
      "metadata": {
        "trusted": true
      },
      "cell_type": "code",
      "source": "# [ ] Get input for a book title, keep looping while input is Not in title format (title is every word capitalized)\ntitle = input(\"enter the book name in titlized format: \")\nwhile True:\n    if title.istitle():\n        print(title)\n        break\n    else:\n        print(\"book name is not in titlized format\")\n    title = input(\"enter the book name in titlized format: \")",
      "execution_count": 5,
      "outputs": [
        {
          "output_type": "stream",
          "name": "stdout",
          "text": "enter the book name in titlized format: the adventure of sherlock holmes\nbook name is not in titlized format\nenter the book name in titlized format: The Adventure Of Sherlock Holmes\nThe Adventure Of Sherlock Holmes\n"
        }
      ]
    },
    {
      "metadata": {
        "trusted": true
      },
      "cell_type": "code",
      "source": "# [ ] create a math quiz question and ask for the solution until the input is correct\nanswer = int(input('10 x 15 is: '))\nwhile True:\n    if answer == 150:\n        print(True)\n        break\n    else:\n        print(False)\n    answer = int(input('10 x 15 is: '))",
      "execution_count": 4,
      "outputs": [
        {
          "output_type": "stream",
          "name": "stdout",
          "text": "10 x 15 is: 100\nFalse\n10 x 15 is: 150\nTrue\n"
        }
      ]
    },
    {
      "metadata": {},
      "cell_type": "markdown",
      "source": "### Fix the Error"
    },
    {
      "metadata": {
        "trusted": true
      },
      "cell_type": "code",
      "source": "# [ ] review the code, run, fix the error\ntickets = int(input(\"enter tickets remaining (0 to quit): \"))\n\nwhile tickets > 0:\n        # if tickets are multiple of 3 then \"winner\"\n    if tickets/3 == tickets/3 :\n        print(\"you win!\")\n    else:\n        print(\"sorry, not a winner.\")\n    tickets = int(input(\"enter tickets remaining (0 to quit): \"))\n\nprint(\"Game ended\")\n    \n",
      "execution_count": 14,
      "outputs": [
        {
          "output_type": "stream",
          "name": "stdout",
          "text": "enter tickets remaining (0 to quit): 1\nyou win!\nenter tickets remaining (0 to quit): 2\nyou win!\nenter tickets remaining (0 to quit): 3\nyou win!\nenter tickets remaining (0 to quit): 0\nGame ended\n"
        }
      ]
    },
    {
      "metadata": {},
      "cell_type": "markdown",
      "source": "### create a function: quiz_item()  that asks a question and tests if input is correct  \n- quiz_item()has 2 parameter **strings**: question and solution  \n- shows question, gets answer input  \n- returns True if `answer == solution` or continues to ask question until correct answer is provided  \n- use a while loop\n\ncreate 2 or more quiz questions that call quiz_item()  \n**Hint**: provide multiple choice or T/F answers"
    },
    {
      "metadata": {
        "trusted": true
      },
      "cell_type": "code",
      "source": "# Create quiz_item() and 2 or more quiz questions that call quiz_item()\ndef quiz_item(question,solution):\n    answer = input(\"(T/F) Humans are called Homosapiens?: \")\n    if answer == solution:\n        return True\n    else:\n        answer = input(\"(T/F) Octopus have three hearts?: \")\n        if answer == solution:\n            return True\n\nquestion = \"(T/F) Humans are called Homosapiens?: \"\nprint(quiz_item(question,'T'))     \ncount = 0\nwhile False:\n    question = \"(T/F) Octopus have three hearts?: \"\n    print(quiz_item(question,'T')) \n    if count > 3:\n        break",
      "execution_count": 7,
      "outputs": [
        {
          "output_type": "stream",
          "name": "stdout",
          "text": "(T/F) Humans are called Homosapiens?: T\nTrue\n"
        }
      ]
    },
    {
      "metadata": {
        "collapsed": true
      },
      "cell_type": "markdown",
      "source": "[Terms of use](http://go.microsoft.com/fwlink/?LinkID=206977) &nbsp; [Privacy & cookies](https://go.microsoft.com/fwlink/?LinkId=521839) &nbsp; © 2017 Microsoft"
    }
  ],
  "metadata": {
    "anaconda-cloud": {},
    "kernelspec": {
      "name": "python3",
      "display_name": "Python 3",
      "language": "python"
    },
    "language_info": {
      "mimetype": "text/x-python",
      "nbconvert_exporter": "python",
      "name": "python",
      "file_extension": ".py",
      "version": "3.5.4",
      "pygments_lexer": "ipython3",
      "codemirror_mode": {
        "version": 3,
        "name": "ipython"
      }
    }
  },
  "nbformat": 4,
  "nbformat_minor": 1
}