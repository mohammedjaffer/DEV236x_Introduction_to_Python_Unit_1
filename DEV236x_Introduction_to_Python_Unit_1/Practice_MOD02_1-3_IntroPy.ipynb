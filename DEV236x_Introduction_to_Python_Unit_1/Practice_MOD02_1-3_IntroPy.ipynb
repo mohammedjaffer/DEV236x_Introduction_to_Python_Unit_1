{
  "cells": [
    {
      "metadata": {},
      "cell_type": "markdown",
      "source": "# 1-3 Intro Python Practice\n## Functions Arguments & Parameters\n<font size=\"5\" color=\"#00A0B2\"  face=\"verdana\"> <B>Student will be able to</B></font>  \n- **create functions with a parameter**  \n- **create functions with a `return` value** \n- **create functions with multiple parameters**\n- **use knowledge of sequence in coding tasks**  \n- **use coding best practices** "
    },
    {
      "metadata": {},
      "cell_type": "markdown",
      "source": "## &nbsp;\n<font size=\"6\" color=\"#B24C00\"  face=\"verdana\"> <B>Tasks</B></font>"
    },
    {
      "metadata": {
        "trusted": true
      },
      "cell_type": "code",
      "source": "# [ ] define and call a function short_rhyme() that prints a 2 line rhyme\ndef short_rhyme():\n    print(\"Twinkle twinkle little star how i wonder what you are!\")\nshort_rhyme()\n",
      "execution_count": 9,
      "outputs": [
        {
          "output_type": "stream",
          "text": "Twinkle twinkle little star how i wonder what you are!\n",
          "name": "stdout"
        }
      ]
    },
    {
      "metadata": {
        "trusted": true
      },
      "cell_type": "code",
      "source": "# [ ] define (def) a simple function: title_it() and call the function\n# - has a string parameter: msg\n# - prints msg in Title Case\ndef title_it(msg):\n    return msg.title()\nmsg = \"hi there\"\nprint(title_it(msg))\n",
      "execution_count": 12,
      "outputs": [
        {
          "output_type": "stream",
          "text": "Hi There\n",
          "name": "stdout"
        }
      ]
    },
    {
      "metadata": {
        "trusted": true
      },
      "cell_type": "code",
      "source": "# [ ] get user input with prompt \"what is the title?\" \n# [ ] call title_it() using input for the string argument\ndef title_it(msg):\n    return msg.title()\nmsg = input(\"what is the title?: \")\nprint(title_it(msg))\n",
      "execution_count": 14,
      "outputs": [
        {
          "output_type": "stream",
          "name": "stdout",
          "text": "what is the title?: Good afternoon\nGood Afternoon\n"
        }
      ]
    },
    {
      "metadata": {
        "trusted": true
      },
      "cell_type": "code",
      "source": "# [ ] define title_it_rtn() which returns a titled string instead of printing\n# [ ] call title_it_rtn() using input for the string argumetnt and print the result\ndef title_it_rtn(msg):\n    return msg.title()\nmsg = input(\"enter the message: \")\nprint(title_it_rtn(msg))\n",
      "execution_count": 6,
      "outputs": [
        {
          "output_type": "stream",
          "name": "stdout",
          "text": "enter the message: hi there\nHi There\n"
        }
      ]
    },
    {
      "metadata": {},
      "cell_type": "markdown",
      "source": "## Program: bookstore()\ncreate and test bookstore()\n- **bookstore() takes 2 string arguments: book & price**\n- **bookstore returns a string in sentence form** \n- **bookstore() should call title_it_rtn()** with book parameter  \n- **gather input for book_entry and price_entry to use in calling bookstore()**\n- **print the return value of bookstore()**\n>example of output: **`Title: The Adventures Of Sherlock Holmes, costs $12.99`**"
    },
    {
      "metadata": {
        "trusted": true
      },
      "cell_type": "code",
      "source": "# [ ] create, call and test bookstore() function\ndef bookstore(Book, Price):\n    Book = title_it_rtn(Book_entry)\n    #String = 'Title: '+ Book + ', costs $' + Price\n    return \"Title: \"+ Book + \", costs $\" + Price\nBook_entry = input(\"Enter name of the book: \")\nPrice_entry = input(\"Enter price of the book: \")\nprint(bookstore(Book_entry, Price_entry))\n",
      "execution_count": 5,
      "outputs": [
        {
          "output_type": "stream",
          "name": "stdout",
          "text": "Enter name of the book: The Adventures Of Sherlock Holmes\nEnter price of the book: 12.99\nTitle: The Adventures Of Sherlock Holmes, costs $12.99\n"
        }
      ]
    },
    {
      "metadata": {},
      "cell_type": "markdown",
      "source": "### Fix the error"
    },
    {
      "metadata": {
        "trusted": true
      },
      "cell_type": "code",
      "source": "def make_greeting(name, greeting = \"Hello\"):\n    return (greeting + \" \" + name + \"!\")\n\n# get name and greeting, send to make_greeting \n#print(make_greeting(get_name(), get_greeting()))\n\ndef get_name():\n    name_entry = input(\"enter a name: \")\n    return name_entry\n\ndef get_greeting():\n    greeting_entry = input(\"enter a greeting: \")\n    return greeting_entry\n\n\nprint(make_greeting(get_name(), get_greeting()))\n",
      "execution_count": 1,
      "outputs": [
        {
          "output_type": "stream",
          "name": "stdout",
          "text": "enter a name: Mohammed\nenter a greeting: Good Morning\nGood Morning Mohammed!\n"
        }
      ]
    },
    {
      "metadata": {},
      "cell_type": "markdown",
      "source": "\n[Terms of use](http://go.microsoft.com/fwlink/?LinkID=206977) &nbsp; [Privacy & cookies](https://go.microsoft.com/fwlink/?LinkId=521839) &nbsp; © 2017 Microsoft"
    }
  ],
  "metadata": {
    "anaconda-cloud": {},
    "kernelspec": {
      "name": "python3",
      "display_name": "Python 3",
      "language": "python"
    },
    "language_info": {
      "mimetype": "text/x-python",
      "nbconvert_exporter": "python",
      "name": "python",
      "file_extension": ".py",
      "version": "3.5.4",
      "pygments_lexer": "ipython3",
      "codemirror_mode": {
        "version": 3,
        "name": "ipython"
      }
    }
  },
  "nbformat": 4,
  "nbformat_minor": 1
}